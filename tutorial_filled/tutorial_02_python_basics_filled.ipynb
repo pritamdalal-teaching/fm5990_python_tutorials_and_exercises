{
 "cells": [
  {
   "cell_type": "markdown",
   "metadata": {},
   "source": [
    "# Tutorial 02 - Python Basics"
   ]
  },
  {
   "cell_type": "markdown",
   "metadata": {},
   "source": [
    "- The purpose of this tutorial is to get your feet wet writing Python code in a Jupyter Notebook.  \n",
    "\n",
    "- Along the way we discuss `numpy`, variable assignment, as well as the `list` and `dict` data structures."
   ]
  },
  {
   "cell_type": "markdown",
   "metadata": {},
   "source": [
    "## Importing `numpy`"
   ]
  },
  {
   "cell_type": "markdown",
   "metadata": {},
   "source": [
    "Recall that there are two types of cells in a Jupyter Notebook: `markdown` and `code`.  \n",
    "\n",
    "In this tutorial we are going to focus on `code` cells.\n",
    "\n",
    "Usually the first thing that you do in a Jupyter Notebook is import any of the modules that you will need.  For this tutorial we will need the `numpy` package, which we import using the following code:"
   ]
  },
  {
   "cell_type": "code",
   "execution_count": 1,
   "metadata": {},
   "outputs": [],
   "source": [
    "import numpy as np"
   ]
  },
  {
   "cell_type": "markdown",
   "metadata": {},
   "source": [
    "In order to \"run\" the code in the above cell, you will need to press: **shift + enter**"
   ]
  },
  {
   "cell_type": "markdown",
   "metadata": {},
   "source": [
    "## Arithmetic"
   ]
  },
  {
   "cell_type": "markdown",
   "metadata": {},
   "source": [
    "One of the simplest things that you can do in code cells is basic arithmetic.  The following code calculates $e^{\\, 0.01} -1$."
   ]
  },
  {
   "cell_type": "code",
   "execution_count": 2,
   "metadata": {},
   "outputs": [
    {
     "data": {
      "text/plain": [
       "0.010050167084167949"
      ]
     },
     "execution_count": 2,
     "metadata": {},
     "output_type": "execute_result"
    }
   ],
   "source": [
    "np.exp(0.01) - 1"
   ]
  },
  {
   "cell_type": "markdown",
   "metadata": {},
   "source": [
    "Notice that we have to use the syntax of `np.exp()` because the exponential function is not built into the base Python language.  It is, however part of the `numpy` package, which is why we needed to import it at the beginning of this notebook.  \n",
    "\n",
    "In this class, pretty much everything we will ever do will require `numpy` and `pandas` (which we'll get to shortly).  So it's a good idea to just reflexively import both of them at the top of all of your notebooks."
   ]
  },
  {
   "cell_type": "markdown",
   "metadata": {},
   "source": [
    "## Variable Assignment"
   ]
  },
  {
   "cell_type": "markdown",
   "metadata": {},
   "source": [
    "Assigning values to variables happens all the time in the course of a data analysis.  A variable can be as simple as single number or character, or as complex as a table of data containing 50 columns and 1 million rows.\n",
    "\n",
    "In order to assign a value to a variable, you use the `=` sign as follows:"
   ]
  },
  {
   "cell_type": "code",
   "execution_count": 3,
   "metadata": {},
   "outputs": [],
   "source": [
    "etf = \"SPY\"\n",
    "price = 276.50\n",
    "daily_return = np.exp(0.01) -1"
   ]
  },
  {
   "cell_type": "markdown",
   "metadata": {},
   "source": [
    "We can use the `type()` function to examine the data types of the variables that we created."
   ]
  },
  {
   "cell_type": "code",
   "execution_count": 4,
   "metadata": {},
   "outputs": [
    {
     "name": "stdout",
     "output_type": "stream",
     "text": [
      "<class 'str'>\n",
      "<class 'float'>\n",
      "<class 'numpy.float64'>\n"
     ]
    }
   ],
   "source": [
    "print(type(etf))\n",
    "print(type(price))\n",
    "print(type(daily_return))"
   ]
  },
  {
   "cell_type": "markdown",
   "metadata": {},
   "source": [
    "Notice that unlike some languages like C# and VBA, we didn't have to specify the kind of data that goes into our variables before doing the assignment.  We can just start assigning.  It's this kind of flexibility that makes Python ideal for data analysis."
   ]
  },
  {
   "cell_type": "markdown",
   "metadata": {},
   "source": [
    "## Lists"
   ]
  },
  {
   "cell_type": "markdown",
   "metadata": {},
   "source": [
    "The variable we created above all consist of a single value.  We'll often be dealing with variables that consist of multiple values (e.g. a set of prices of a stock).\n",
    "\n",
    "The simplest data structure in Python for storing multiple items is a `list`.  Type the following code to create some lists:"
   ]
  },
  {
   "cell_type": "code",
   "execution_count": 5,
   "metadata": {},
   "outputs": [],
   "source": [
    "lst_etf = [\"SPY\", \"IWM\", \"QQQ\", \"DIA\"]\n",
    "lst_px = [287.50, 182.48, 171.59, 257.85]\n",
    "lst_mix = [\"A\", 1.0, True]"
   ]
  },
  {
   "cell_type": "markdown",
   "metadata": {},
   "source": [
    "Let's examine the content of the variables we just created."
   ]
  },
  {
   "cell_type": "code",
   "execution_count": 6,
   "metadata": {},
   "outputs": [
    {
     "name": "stdout",
     "output_type": "stream",
     "text": [
      "['SPY', 'IWM', 'QQQ', 'DIA']\n",
      "[287.5, 182.48, 171.59, 257.85]\n",
      "['A', 1.0, True]\n"
     ]
    }
   ],
   "source": [
    "print(lst_etf)\n",
    "print(lst_px)\n",
    "print(lst_mix)"
   ]
  },
  {
   "cell_type": "markdown",
   "metadata": {},
   "source": [
    "Notice that `lst_mix` consists letters (strings), numbers, and booleans rationals.  \n",
    "\n",
    "A `list` is very flexible in that you can put different kinds of data types into it."
   ]
  },
  {
   "cell_type": "markdown",
   "metadata": {},
   "source": [
    "## List Indexing"
   ]
  },
  {
   "cell_type": "markdown",
   "metadata": {},
   "source": [
    "You can access the element of a list using square brackets (`[]`) as follows:"
   ]
  },
  {
   "cell_type": "code",
   "execution_count": 7,
   "metadata": {},
   "outputs": [
    {
     "name": "stdout",
     "output_type": "stream",
     "text": [
      "SPY\n",
      "182.48\n",
      "True\n"
     ]
    }
   ],
   "source": [
    "print(lst_etf[0])\n",
    "print(lst_px[1])\n",
    "print(lst_mix[2])"
   ]
  },
  {
   "cell_type": "markdown",
   "metadata": {},
   "source": [
    "You can reassign values to the elements of a list with the square brackets as well:"
   ]
  },
  {
   "cell_type": "code",
   "execution_count": 8,
   "metadata": {},
   "outputs": [
    {
     "data": {
      "text/plain": [
       "['SPY', 'IWM', 'QQQ', 'XLF']"
      ]
     },
     "execution_count": 8,
     "metadata": {},
     "output_type": "execute_result"
    }
   ],
   "source": [
    "lst_etf[3] = 'XLF'\n",
    "lst_etf # if your run a variable name, its value will print below the cell."
   ]
  },
  {
   "cell_type": "markdown",
   "metadata": {},
   "source": [
    "## Dictionaries"
   ]
  },
  {
   "cell_type": "markdown",
   "metadata": {},
   "source": [
    "Another simple data structure in Python is the `dict`, which is short for *dictionary*.\n",
    "\n",
    "A `dict` is a collection of pairs of values. This type of structure is sometimes referred to generally as  *hash-table*.\n",
    "\n",
    "Here is an example of a hash-table that associates a price witha given stock:"
   ]
  },
  {
   "cell_type": "code",
   "execution_count": 9,
   "metadata": {},
   "outputs": [
    {
     "data": {
      "text/plain": [
       "{'SPY': 287.5, 'IWM': 182.48, 'QQQ': 171.59, 'DIA': 257.85}"
      ]
     },
     "execution_count": 9,
     "metadata": {},
     "output_type": "execute_result"
    }
   ],
   "source": [
    "price = {'SPY':287.50, 'IWM':182.48, 'QQQ':171.59, 'DIA':257.85}\n",
    "price"
   ]
  },
  {
   "cell_type": "markdown",
   "metadata": {},
   "source": [
    "We can check the type of our new variable as follows:"
   ]
  },
  {
   "cell_type": "code",
   "execution_count": 10,
   "metadata": {},
   "outputs": [
    {
     "data": {
      "text/plain": [
       "dict"
      ]
     },
     "execution_count": 10,
     "metadata": {},
     "output_type": "execute_result"
    }
   ],
   "source": [
    "type(price)"
   ]
  },
  {
   "cell_type": "markdown",
   "metadata": {},
   "source": [
    "- A `dict` is sometimes referred to as a collection of *key/value* pairs.\n",
    "\n",
    "- In our example, the ETF names are the *keys* and the prices are the *values*."
   ]
  },
  {
   "cell_type": "markdown",
   "metadata": {},
   "source": [
    "One of the nice features of a `dict` is the ability to refer to one of the values by useing the square brackets `[]` and the key.\n",
    "\n",
    "Here is how we would do this with our example:"
   ]
  },
  {
   "cell_type": "code",
   "execution_count": 11,
   "metadata": {},
   "outputs": [
    {
     "name": "stdout",
     "output_type": "stream",
     "text": [
      "287.5\n",
      "182.48\n",
      "171.59\n"
     ]
    }
   ],
   "source": [
    "print(price['SPY'])\n",
    "print(price['IWM'])\n",
    "print(price['QQQ'])"
   ]
  },
  {
   "cell_type": "markdown",
   "metadata": {},
   "source": [
    "## Related Reading"
   ]
  },
  {
   "cell_type": "markdown",
   "metadata": {},
   "source": [
    "*A Whirlwind Tour of Python* - Section 7 - Build-In Data Structures"
   ]
  }
 ],
 "metadata": {
  "kernelspec": {
   "display_name": "Python 3",
   "language": "python",
   "name": "python3"
  },
  "language_info": {
   "codemirror_mode": {
    "name": "ipython",
    "version": 3
   },
   "file_extension": ".py",
   "mimetype": "text/x-python",
   "name": "python",
   "nbconvert_exporter": "python",
   "pygments_lexer": "ipython3",
   "version": "3.6.8"
  }
 },
 "nbformat": 4,
 "nbformat_minor": 2
}
