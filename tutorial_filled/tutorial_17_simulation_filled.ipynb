{
 "cells": [
  {
   "cell_type": "markdown",
   "metadata": {},
   "source": [
    "# Tutorial 17 - Simulation"
   ]
  },
  {
   "cell_type": "markdown",
   "metadata": {},
   "source": [
    "Thus far in this course we have focused our analysis efforts from data that comes directly from financial markets.  It is *real* data.\n",
    "\n",
    "However, similar techniques can be applied to data that is simulated. *Simulation* is the process by which random number generators in a computer are  are used to create *fake* data.  The idea is that the simulated data resembles some aspect of the real-world, so the conclusions you draw from the fake data are applicable to real life.\n",
    "\n",
    "Why might we want to simulate data in finance?  Here are a few of reaons:\n",
    "\n",
    "1. The phenomenon you want to model is so complex that it's hard to derive pen and paper solutions. (This is what we are going to do in our example today).\n",
    "\n",
    "2. There isn't enough historical data for you to feel comfortable about your conclusion, so you run simulations to generate more data.  (E.g. Risk management.)\n",
    "\n",
    "3. Real world data, by definition, represents the past, and you believe the future is going to be different.  Thus, you run simulations to generate data that you feel reflects the future world better.\n",
    "\n",
    "The purpose of this tutorial is to give a brief introduction to the style of coding that is involved when you run simulations in Python.  Towards this end, we will price a European put option using a technique called *Monte Carlo Simulation*."
   ]
  },
  {
   "cell_type": "markdown",
   "metadata": {},
   "source": [
    "### Load Packages"
   ]
  },
  {
   "cell_type": "markdown",
   "metadata": {},
   "source": [
    "Let's begin by loading the packages that we will need."
   ]
  },
  {
   "cell_type": "code",
   "execution_count": 205,
   "metadata": {},
   "outputs": [],
   "source": [
    "import numpy as np"
   ]
  },
  {
   "cell_type": "markdown",
   "metadata": {},
   "source": [
    "### Random Number Generation"
   ]
  },
  {
   "cell_type": "markdown",
   "metadata": {},
   "source": [
    "At the heart of simulation is the generation of random numbers.  The `numpy.random` sublibrary has a variety of random number generators that we can use."
   ]
  },
  {
   "cell_type": "markdown",
   "metadata": {},
   "source": [
    "The following code generates 3 random numbers uniformly distributed between 0 and 1."
   ]
  },
  {
   "cell_type": "code",
   "execution_count": 34,
   "metadata": {},
   "outputs": [
    {
     "data": {
      "text/plain": [
       "array([0.89308211, 0.46788356, 0.58084918])"
      ]
     },
     "execution_count": 34,
     "metadata": {},
     "output_type": "execute_result"
    }
   ],
   "source": [
    "np.random.rand(3)"
   ]
  },
  {
   "cell_type": "markdown",
   "metadata": {},
   "source": [
    "**Code Challenge:** What do you think the mean of a bunch of (0, 1) uniformly distributed numbers should be?  Test your hypothesis. "
   ]
  },
  {
   "cell_type": "code",
   "execution_count": null,
   "metadata": {},
   "outputs": [],
   "source": [
    "\n",
    "\n",
    "\n"
   ]
  },
  {
   "cell_type": "markdown",
   "metadata": {},
   "source": [
    "The following code generates 5 standard normal random numbers."
   ]
  },
  {
   "cell_type": "code",
   "execution_count": 35,
   "metadata": {},
   "outputs": [
    {
     "data": {
      "text/plain": [
       "array([-1.37946909,  1.94534259,  0.12363971])"
      ]
     },
     "execution_count": 35,
     "metadata": {},
     "output_type": "execute_result"
    }
   ],
   "source": [
    "np.random.randn(3)"
   ]
  },
  {
   "cell_type": "markdown",
   "metadata": {},
   "source": [
    "There are a multitude of distributions available in `numpy.random`.  They are all listed in the `numpy` offical [documentation](https://docs.scipy.org/doc/numpy/reference/routines.random.html). "
   ]
  },
  {
   "cell_type": "markdown",
   "metadata": {},
   "source": [
    "### Setting the Random Seed with `numpy.random.seed()`"
   ]
  },
  {
   "cell_type": "markdown",
   "metadata": {},
   "source": [
    "If you are typing along, you've notice that you are getting different random numbers.  This is because random number generators are really deterministic alogrithms that spit out sequences of numbers bases on a starting point, which is usually the internal system time of your computer.\n",
    "\n",
    "We can also set the seed explicitly with the `random.seed()` method in the `numpy` package.\n",
    "\n",
    "If you type the following code, you will get the same result."
   ]
  },
  {
   "cell_type": "code",
   "execution_count": 161,
   "metadata": {},
   "outputs": [
    {
     "data": {
      "text/plain": [
       "array([1.76405235, 0.40015721, 0.97873798])"
      ]
     },
     "execution_count": 161,
     "metadata": {},
     "output_type": "execute_result"
    }
   ],
   "source": [
    "np.random.seed(0)\n",
    "\n",
    "np.random.randn(3)"
   ]
  },
  {
   "cell_type": "markdown",
   "metadata": {},
   "source": [
    "**Note:** Don't set the seed in your production code."
   ]
  },
  {
   "cell_type": "markdown",
   "metadata": {},
   "source": [
    "### Geometric Brownian Motion"
   ]
  },
  {
   "cell_type": "markdown",
   "metadata": {},
   "source": [
    "The series of trade prices for a stock is often modeled as a series of random variables, which is also referred to as a *stochastic process*. There many types of stochastic processes, and some of them resemble actual stock price movements better than others.\n",
    "\n",
    "The Black-Scholes option pricing framework assumes that the price process of the underlying asset follows a *geometric brownian motion* (GBM). This means that:\n",
    "\n",
    "1. The price process is continuous.\n",
    "\n",
    "1. The log return over any period of time is normally distributed.\n",
    "\n",
    "2. The returns during any two disjoint periods are independent.\n",
    "\n",
    "While these assumptions are often violated in actual prices, the Black-Scholes framework lead to the first analytic solution to option pricing.  Moreover, GBMs are one of the simplest types of processes that reasonably model asset price dynamics, so it's often a good place to start when learning about simulating stock price data.\n",
    "\n",
    "The price process of a geometric brownian motion is determined by the current risk-free rate $r$ and the annualized volatility of the underlying $\\sigma$.  The prices that are separated by $\\Delta t$ units of time are related by\n",
    "\n",
    "$$S_{t} =  S_{t - \\Delta t} \\cdot \\exp\\bigg(\\bigg(r - \\frac{1}{2}\\sigma^2\\bigg)\\Delta t + \\sigma \\sqrt{\\Delta t} z_{t}\\bigg)$$\n",
    "\n",
    "where $z_{t}$ is a standard normal random variable.\n",
    "\n",
    "This is called the Euler discretization of a GBM. It will serve as the  recipe for our simulation algorithm.  Note that the expression in the parentheses is simply the return factor between time $t - \\Delta t$ and $t$."
   ]
  },
  {
   "cell_type": "markdown",
   "metadata": {},
   "source": [
    "### Option Pricing Objective"
   ]
  },
  {
   "cell_type": "markdown",
   "metadata": {},
   "source": [
    "The option price we are going to price has the following parameters:\n",
    "\n",
    "- underlying: QQQ\n",
    "- current date: 11/16/2018\n",
    "- expiration: 12/21/2018\n",
    "- type: put\n",
    "- strike: 160\n",
    "- upx: 168\n",
    "- d2x: 24"
   ]
  },
  {
   "cell_type": "markdown",
   "metadata": {},
   "source": [
    "### Risk Neutral Pricing and Monte-Carlo"
   ]
  },
  {
   "cell_type": "markdown",
   "metadata": {},
   "source": [
    "Consider our option pricing problem.  On November 16th, the underlying price at on expiration date, December 21, is a random variable.  The payoff of the put we are pricing is also a random variable, because it is simply a function of the expiration day underlying price.\n",
    "\n",
    "One of the key theoretical insights of option pricing theory is that the price of an option is the (risk-neutral) *expected value* of the option payoff.  Said differently, the option price is the average option payoff, given the random nature of the underlying.\n",
    "\n",
    "In mathematics, an expected value is defined as an integral.  Simple integrals can be solved with pen-and-paper.  In fact, the Black-Scholes option pricing formula is the solution to the expected value integral, given that the underlying proces is a geometric brownian motion.\n",
    "\n",
    "Many integrals are too complicated to be solved with pen and paper.  However, there is another way to tackle these:  simulate the underlying distribution with a computer and take the average.  This is called Monte Carlo simulation.\n",
    "\n",
    "This is not unlike the approach we took to solve the **Code Challenge** above."
   ]
  },
  {
   "cell_type": "markdown",
   "metadata": {},
   "source": [
    "### Pricing Procedure"
   ]
  },
  {
   "cell_type": "markdown",
   "metadata": {},
   "source": [
    "So here is the approach we are going to take:\n",
    "\n",
    "1. Simulate a bunch of QQQ prices paths, according to what we think the distribution of QQQ will be.\n",
    "2. For each path, we will calculate the simulated payoff of our option on that path.\n",
    "2. Our option price is goint to be the average of those simulated option payoffs."
   ]
  },
  {
   "cell_type": "markdown",
   "metadata": {},
   "source": [
    "### Market Calibration"
   ]
  },
  {
   "cell_type": "markdown",
   "metadata": {},
   "source": [
    "We are simulating QQQ with a GBM.  Recall that a GBM process is completely determined by the risk-free rate $r$ an the volatility $\\sigma$.  Here are the quantites we are going to use and why:\n",
    "\n",
    "$r = 0$ - rates are low right now, and for short dated options the interest has little impact on the price of an option.\n",
    "\n",
    "$\\sigma = 0.2632$ - the implied vol for QQQ on that November 16th.\n",
    "\n",
    "This process of looking at the current markets to inform your simulation is called *market calibration*."
   ]
  },
  {
   "cell_type": "markdown",
   "metadata": {},
   "source": [
    "### Simulating a Single Path"
   ]
  },
  {
   "cell_type": "markdown",
   "metadata": {},
   "source": [
    "Our eventual pricing calculation is going to involve many hundreds of thousands of paths.  But let's first simulate one path, and calculate the option payoff for that path."
   ]
  },
  {
   "cell_type": "markdown",
   "metadata": {},
   "source": [
    "In particular, let's generate a path of daily prices, which means our price path is going to have a total of 25 prices, including the starting price."
   ]
  },
  {
   "cell_type": "code",
   "execution_count": 221,
   "metadata": {},
   "outputs": [],
   "source": [
    "# setting the random seed\n",
    "np.random.seed(0)\n",
    "\n",
    "# parameters of simulation\n",
    "r = 0\n",
    "sigma = 0.2632\n",
    "dt = 1./252\n",
    "\n",
    "# initializing paths\n",
    "S = np.zeros(25)\n",
    "S[0] = 167.50\n",
    "\n",
    "# looping through days and generating steps in the paths\n",
    "for t in range(1, 25):\n",
    "    z = np.random.standard_normal(1)\n",
    "    S[t] = S[t - 1] * np.exp((r - 0.5 * sigma ** 2) * dt\n",
    "                            + sigma * math.sqrt(dt) * z)"
   ]
  },
  {
   "cell_type": "markdown",
   "metadata": {},
   "source": [
    "Let's take a look at the path we generated:"
   ]
  },
  {
   "cell_type": "code",
   "execution_count": 219,
   "metadata": {},
   "outputs": [
    {
     "data": {
      "text/plain": [
       "array([167.5       , 162.68807516, 163.59255643, 166.72718556,\n",
       "       166.00800471, 168.70791379, 170.12904201, 170.73061082,\n",
       "       167.70527565, 167.15622088, 167.84137135, 166.54870012,\n",
       "       167.73164309, 166.09366241, 168.33529098, 170.19997345,\n",
       "       169.88223643, 168.36923086, 171.24494053, 169.98210667,\n",
       "       166.83644558, 171.35189356, 175.76391948, 175.00737441,\n",
       "       172.55621097])"
      ]
     },
     "execution_count": 219,
     "metadata": {},
     "output_type": "execute_result"
    }
   ],
   "source": [
    "S"
   ]
  },
  {
   "cell_type": "markdown",
   "metadata": {},
   "source": [
    "Finally, we calulate the pay off for our put option as follows:"
   ]
  },
  {
   "cell_type": "code",
   "execution_count": 222,
   "metadata": {},
   "outputs": [
    {
     "data": {
      "text/plain": [
       "0.0"
      ]
     },
     "execution_count": 222,
     "metadata": {},
     "output_type": "execute_result"
    }
   ],
   "source": [
    "K = 160 # strike price\n",
    "payoff = np.maximum(K - S[-1], 0)\n",
    "payoff"
   ]
  },
  {
   "cell_type": "markdown",
   "metadata": {},
   "source": [
    "### Simulating All Paths and Averaging"
   ]
  },
  {
   "cell_type": "markdown",
   "metadata": {},
   "source": [
    "The Monte-Carlo simulation is simply repeating the above process a multitude of times, and then averaging all the simulated option payoffs."
   ]
  },
  {
   "cell_type": "markdown",
   "metadata": {},
   "source": [
    "The following code sets the parameters of our Monte Carlo pricer.  Notice that we are generating 1 million scenarios of each consisting of 24 steps.  That's a lot of calcuation.  In order to get reasonable performance we will exploit vectorized operations in `numpy`."
   ]
  },
  {
   "cell_type": "code",
   "execution_count": 223,
   "metadata": {},
   "outputs": [],
   "source": [
    "S0 = 168.\n",
    "K = 160.\n",
    "T = 24./252.\n",
    "r = 0\n",
    "sigma = 0.2632\n",
    "M = 24\n",
    "dt = T / M\n",
    "I = 1000000"
   ]
  },
  {
   "cell_type": "markdown",
   "metadata": {},
   "source": [
    "In the following code, `S` is being initialized to hold all the price paths. Notice that this is a matrix with 25 rows and 1 million columns.  Each column is going to be one price path."
   ]
  },
  {
   "cell_type": "code",
   "execution_count": 224,
   "metadata": {},
   "outputs": [],
   "source": [
    "S = np.zeros((M + 1, I))"
   ]
  },
  {
   "cell_type": "markdown",
   "metadata": {},
   "source": [
    "Next, let's set the first price in each path as the starting underlying price."
   ]
  },
  {
   "cell_type": "code",
   "execution_count": 225,
   "metadata": {},
   "outputs": [],
   "source": [
    "S[0] = S0"
   ]
  },
  {
   "cell_type": "markdown",
   "metadata": {},
   "source": [
    "Now, we'll fill in each path using the Euler discretization above.  There are 25 steps in the `for` loop.  At each step, 1 million normal random numbers are generated, and a vectorize operation is used to calculate the next price in all the paths simulaneously.  This is how we are able to exploit the performance of `numpy`."
   ]
  },
  {
   "cell_type": "code",
   "execution_count": 227,
   "metadata": {},
   "outputs": [],
   "source": [
    "for t in range(1, M + 1):\n",
    "    z = np.random.standard_normal(I) \n",
    "    S[t] = S[t - 1] * np.exp((r - 0.5 * sigma ** 2) * dt\n",
    "                            + sigma * math.sqrt(dt) * z)"
   ]
  },
  {
   "cell_type": "markdown",
   "metadata": {},
   "source": [
    "**Code Challenge:** Extract the 967th path and print it to the screen."
   ]
  },
  {
   "cell_type": "code",
   "execution_count": null,
   "metadata": {},
   "outputs": [],
   "source": [
    "\n",
    "\n"
   ]
  },
  {
   "cell_type": "markdown",
   "metadata": {},
   "source": [
    "As mentioned above, the price of our option is the average of the simulated option payoffs."
   ]
  },
  {
   "cell_type": "code",
   "execution_count": 204,
   "metadata": {},
   "outputs": [
    {
     "data": {
      "text/plain": [
       "2.24"
      ]
     },
     "execution_count": 204,
     "metadata": {},
     "output_type": "execute_result"
    }
   ],
   "source": [
    "put_price = math.exp(-r * T) * np.mean(np.maximum(K - S[-1], 0))\n",
    "round(put_price, 3)"
   ]
  },
  {
   "cell_type": "markdown",
   "metadata": {},
   "source": [
    "### Further Reading\n",
    "\n",
    "*P4F* - pp 59-68 (Monte Carlo Simulation)\n",
    "\n",
    "*P4F* - pp 266-271 (Random Number Generation)"
   ]
  }
 ],
 "metadata": {
  "kernelspec": {
   "display_name": "Python 3",
   "language": "python",
   "name": "python3"
  },
  "language_info": {
   "codemirror_mode": {
    "name": "ipython",
    "version": 3
   },
   "file_extension": ".py",
   "mimetype": "text/x-python",
   "name": "python",
   "nbconvert_exporter": "python",
   "pygments_lexer": "ipython3",
   "version": "3.6.8"
  }
 },
 "nbformat": 4,
 "nbformat_minor": 2
}
