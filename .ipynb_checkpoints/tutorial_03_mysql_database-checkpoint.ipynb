{
 "cells": [
  {
   "cell_type": "markdown",
   "metadata": {},
   "source": [
    "# Tutorial 3 - Connecting to a MySQL Database"
   ]
  },
  {
   "cell_type": "markdown",
   "metadata": {},
   "source": [
    "The purpose of this tutorial is to connect to a MySQL database."
   ]
  },
  {
   "cell_type": "code",
   "execution_count": 3,
   "metadata": {},
   "outputs": [],
   "source": [
    "import mysql.connector"
   ]
  },
  {
   "cell_type": "code",
   "execution_count": 4,
   "metadata": {},
   "outputs": [
    {
     "name": "stdout",
     "output_type": "stream",
     "text": [
      "(878237,)\n"
     ]
    }
   ],
   "source": [
    "cnx = mysql.connector.connect(user='root', password='w0rthless1',\n",
    "                              host='127.0.0.1',\n",
    "                              database='delta_neutral')\n",
    "\n",
    "cursor = cnx.cursor()\n",
    "\n",
    "query = \"SELECT count(*) from option_small where DataDate = '2018-05-01';\"\n",
    "\n",
    "cursor.execute(query)\n",
    "\n",
    "for (OptionSymbol) in cursor:\n",
    "    print(OptionSymbol)\n",
    "cnx.close()"
   ]
  },
  {
   "cell_type": "code",
   "execution_count": null,
   "metadata": {},
   "outputs": [],
   "source": []
  }
 ],
 "metadata": {
  "kernelspec": {
   "display_name": "Python 3",
   "language": "python",
   "name": "python3"
  }
 },
 "nbformat": 4,
 "nbformat_minor": 2
}
