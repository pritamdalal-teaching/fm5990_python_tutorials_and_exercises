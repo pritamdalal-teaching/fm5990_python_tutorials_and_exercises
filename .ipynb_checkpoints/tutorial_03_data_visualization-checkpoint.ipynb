{
 "cells": [
  {
   "cell_type": "markdown",
   "metadata": {},
   "source": [
    "# Tutorial 3 - Data Visualization"
   ]
  },
  {
   "cell_type": "markdown",
   "metadata": {},
   "source": [
    "### Objective"
   ]
  },
  {
   "cell_type": "markdown",
   "metadata": {},
   "source": [
    "The purpose of this tutorial is to give a brief introduction to the data visualization capabilities of Python.  Data visualization is a massive topic and we are only going to scratch the surface."
   ]
  },
  {
   "cell_type": "markdown",
   "metadata": {},
   "source": [
    "The foundation of data visualization is the `matplotlib` package.  Another package that is quite useful is the `seaborn` package.  We will utilize both in this tutorial."
   ]
  },
  {
   "cell_type": "markdown",
   "metadata": {},
   "source": [
    "### Loading Packages and Configuration"
   ]
  },
  {
   "cell_type": "markdown",
   "metadata": {},
   "source": [
    "Let's begin by importing the packages that we need."
   ]
  },
  {
   "cell_type": "code",
   "execution_count": 35,
   "metadata": {},
   "outputs": [],
   "source": [
    "import numpy as np\n",
    "import pandas as pd\n",
    "import matplotlib.pyplot as plt\n",
    "import seaborn as sns"
   ]
  },
  {
   "cell_type": "markdown",
   "metadata": {},
   "source": [
    "Now that we have the packages loaded, we'll do a bit of configuration of the Jupyter environment.  First, in order to see the graphs within the sheet, we need to run the following."
   ]
  },
  {
   "cell_type": "code",
   "execution_count": 36,
   "metadata": {},
   "outputs": [],
   "source": [
    "%matplotlib inline"
   ]
  },
  {
   "cell_type": "markdown",
   "metadata": {},
   "source": [
    "This bit of code above that starts with a `%` is called an *IPython magic* command.  IPython magics are another way in which IPython enhances the baseline functionality of Python.  We won't concern ourselves anymore about magic commands in this tutorial, but it's good to be aware of their existance."
   ]
  },
  {
   "cell_type": "markdown",
   "metadata": {},
   "source": [
    "The next few lines of code are a matter of preference.  The first limits the number of rows that are printed when you print a dataframe, and the next two prints all lines of the code that have an outputs (as opposed to just the final line, which is the default behavior in Jupyter)."
   ]
  },
  {
   "cell_type": "code",
   "execution_count": 37,
   "metadata": {},
   "outputs": [],
   "source": [
    "##> pd.options.display.max_rows = 6\n",
    "##> from IPython.core.interactiveshell import InteractiveShell\n",
    "##> InteractiveShell.ast_node_interactivity = \"all\"\n",
    "\n",
    "pd.options.display.max_rows = 6\n",
    "from IPython.core.interactiveshell import InteractiveShell\n",
    "InteractiveShell.ast_node_interactivity = 'all'"
   ]
  },
  {
   "cell_type": "markdown",
   "metadata": {},
   "source": [
    "### Reading In the Data"
   ]
  },
  {
   "cell_type": "markdown",
   "metadata": {},
   "source": [
    "We are going to performs some visualization exercises with the data in the `practice_market_history.csv` file that can be found in the `data` folder.  To load the data we us the following code:"
   ]
  },
  {
   "cell_type": "code",
   "execution_count": 38,
   "metadata": {},
   "outputs": [],
   "source": [
    "df_market_history = pd.read_csv('data/practice_market_history.csv')"
   ]
  },
  {
   "cell_type": "code",
   "execution_count": 39,
   "metadata": {},
   "outputs": [
    {
     "data": {
      "text/html": [
       "<div>\n",
       "<style scoped>\n",
       "    .dataframe tbody tr th:only-of-type {\n",
       "        vertical-align: middle;\n",
       "    }\n",
       "\n",
       "    .dataframe tbody tr th {\n",
       "        vertical-align: top;\n",
       "    }\n",
       "\n",
       "    .dataframe thead th {\n",
       "        text-align: right;\n",
       "    }\n",
       "</style>\n",
       "<table border=\"1\" class=\"dataframe\">\n",
       "  <thead>\n",
       "    <tr style=\"text-align: right;\">\n",
       "      <th></th>\n",
       "      <th>trade_date</th>\n",
       "      <th>option_symbol</th>\n",
       "      <th>underlying</th>\n",
       "      <th>type</th>\n",
       "      <th>expiration</th>\n",
       "      <th>d2x</th>\n",
       "      <th>strike</th>\n",
       "      <th>upx</th>\n",
       "      <th>bid</th>\n",
       "      <th>ask</th>\n",
       "      <th>mid</th>\n",
       "      <th>volume</th>\n",
       "      <th>open_interest</th>\n",
       "      <th>implied_forward</th>\n",
       "      <th>implied_vol</th>\n",
       "      <th>delta</th>\n",
       "      <th>atm_volatility</th>\n",
       "      <th>swap_rate</th>\n",
       "    </tr>\n",
       "  </thead>\n",
       "  <tbody>\n",
       "    <tr>\n",
       "      <th>0</th>\n",
       "      <td>2013-08-16</td>\n",
       "      <td>SPY130921P00138000</td>\n",
       "      <td>SPY</td>\n",
       "      <td>put</td>\n",
       "      <td>2013-09-21</td>\n",
       "      <td>24</td>\n",
       "      <td>138.0</td>\n",
       "      <td>165.83</td>\n",
       "      <td>0.07</td>\n",
       "      <td>0.08</td>\n",
       "      <td>0.075</td>\n",
       "      <td>2</td>\n",
       "      <td>13782</td>\n",
       "      <td>165.329</td>\n",
       "      <td>0.274266</td>\n",
       "      <td>0.014739</td>\n",
       "      <td>0.141382</td>\n",
       "      <td>0.152329</td>\n",
       "    </tr>\n",
       "    <tr>\n",
       "      <th>1</th>\n",
       "      <td>2013-08-16</td>\n",
       "      <td>SPY130921P00139000</td>\n",
       "      <td>SPY</td>\n",
       "      <td>put</td>\n",
       "      <td>2013-09-21</td>\n",
       "      <td>24</td>\n",
       "      <td>139.0</td>\n",
       "      <td>165.83</td>\n",
       "      <td>0.08</td>\n",
       "      <td>0.09</td>\n",
       "      <td>0.085</td>\n",
       "      <td>339</td>\n",
       "      <td>14814</td>\n",
       "      <td>165.329</td>\n",
       "      <td>0.269602</td>\n",
       "      <td>0.016732</td>\n",
       "      <td>0.141382</td>\n",
       "      <td>0.152329</td>\n",
       "    </tr>\n",
       "    <tr>\n",
       "      <th>2</th>\n",
       "      <td>2013-08-16</td>\n",
       "      <td>SPY130921P00140000</td>\n",
       "      <td>SPY</td>\n",
       "      <td>put</td>\n",
       "      <td>2013-09-21</td>\n",
       "      <td>24</td>\n",
       "      <td>140.0</td>\n",
       "      <td>165.83</td>\n",
       "      <td>0.09</td>\n",
       "      <td>0.10</td>\n",
       "      <td>0.095</td>\n",
       "      <td>575</td>\n",
       "      <td>96322</td>\n",
       "      <td>165.329</td>\n",
       "      <td>0.264369</td>\n",
       "      <td>0.018805</td>\n",
       "      <td>0.141382</td>\n",
       "      <td>0.152329</td>\n",
       "    </tr>\n",
       "    <tr>\n",
       "      <th>...</th>\n",
       "      <td>...</td>\n",
       "      <td>...</td>\n",
       "      <td>...</td>\n",
       "      <td>...</td>\n",
       "      <td>...</td>\n",
       "      <td>...</td>\n",
       "      <td>...</td>\n",
       "      <td>...</td>\n",
       "      <td>...</td>\n",
       "      <td>...</td>\n",
       "      <td>...</td>\n",
       "      <td>...</td>\n",
       "      <td>...</td>\n",
       "      <td>...</td>\n",
       "      <td>...</td>\n",
       "      <td>...</td>\n",
       "      <td>...</td>\n",
       "      <td>...</td>\n",
       "    </tr>\n",
       "    <tr>\n",
       "      <th>122937</th>\n",
       "      <td>2014-01-16</td>\n",
       "      <td>GLL140118C00097000</td>\n",
       "      <td>GLL</td>\n",
       "      <td>call</td>\n",
       "      <td>2014-01-18</td>\n",
       "      <td>1</td>\n",
       "      <td>97.0</td>\n",
       "      <td>96.98</td>\n",
       "      <td>0.50</td>\n",
       "      <td>0.85</td>\n",
       "      <td>0.675</td>\n",
       "      <td>1</td>\n",
       "      <td>67</td>\n",
       "      <td>96.995</td>\n",
       "      <td>0.277933</td>\n",
       "      <td>0.502318</td>\n",
       "      <td>0.277896</td>\n",
       "      <td>0.278484</td>\n",
       "    </tr>\n",
       "    <tr>\n",
       "      <th>122938</th>\n",
       "      <td>2014-01-16</td>\n",
       "      <td>GLL140118C00098000</td>\n",
       "      <td>GLL</td>\n",
       "      <td>call</td>\n",
       "      <td>2014-01-18</td>\n",
       "      <td>1</td>\n",
       "      <td>98.0</td>\n",
       "      <td>96.98</td>\n",
       "      <td>0.25</td>\n",
       "      <td>0.45</td>\n",
       "      <td>0.350</td>\n",
       "      <td>0</td>\n",
       "      <td>27</td>\n",
       "      <td>96.995</td>\n",
       "      <td>0.305074</td>\n",
       "      <td>0.299177</td>\n",
       "      <td>0.277896</td>\n",
       "      <td>0.278484</td>\n",
       "    </tr>\n",
       "    <tr>\n",
       "      <th>122939</th>\n",
       "      <td>2014-01-16</td>\n",
       "      <td>GLL140118C00099000</td>\n",
       "      <td>GLL</td>\n",
       "      <td>call</td>\n",
       "      <td>2014-01-18</td>\n",
       "      <td>1</td>\n",
       "      <td>99.0</td>\n",
       "      <td>96.98</td>\n",
       "      <td>0.10</td>\n",
       "      <td>0.25</td>\n",
       "      <td>0.175</td>\n",
       "      <td>45</td>\n",
       "      <td>58</td>\n",
       "      <td>96.995</td>\n",
       "      <td>0.330089</td>\n",
       "      <td>0.165133</td>\n",
       "      <td>0.277896</td>\n",
       "      <td>0.278484</td>\n",
       "    </tr>\n",
       "  </tbody>\n",
       "</table>\n",
       "<p>122940 rows × 18 columns</p>\n",
       "</div>"
      ],
      "text/plain": [
       "        trade_date       option_symbol underlying  type  expiration  d2x  \\\n",
       "0       2013-08-16  SPY130921P00138000        SPY   put  2013-09-21   24   \n",
       "1       2013-08-16  SPY130921P00139000        SPY   put  2013-09-21   24   \n",
       "2       2013-08-16  SPY130921P00140000        SPY   put  2013-09-21   24   \n",
       "...            ...                 ...        ...   ...         ...  ...   \n",
       "122937  2014-01-16  GLL140118C00097000        GLL  call  2014-01-18    1   \n",
       "122938  2014-01-16  GLL140118C00098000        GLL  call  2014-01-18    1   \n",
       "122939  2014-01-16  GLL140118C00099000        GLL  call  2014-01-18    1   \n",
       "\n",
       "        strike     upx   bid   ask    mid  volume  open_interest  \\\n",
       "0        138.0  165.83  0.07  0.08  0.075       2          13782   \n",
       "1        139.0  165.83  0.08  0.09  0.085     339          14814   \n",
       "2        140.0  165.83  0.09  0.10  0.095     575          96322   \n",
       "...        ...     ...   ...   ...    ...     ...            ...   \n",
       "122937    97.0   96.98  0.50  0.85  0.675       1             67   \n",
       "122938    98.0   96.98  0.25  0.45  0.350       0             27   \n",
       "122939    99.0   96.98  0.10  0.25  0.175      45             58   \n",
       "\n",
       "        implied_forward  implied_vol     delta  atm_volatility  swap_rate  \n",
       "0               165.329     0.274266  0.014739        0.141382   0.152329  \n",
       "1               165.329     0.269602  0.016732        0.141382   0.152329  \n",
       "2               165.329     0.264369  0.018805        0.141382   0.152329  \n",
       "...                 ...          ...       ...             ...        ...  \n",
       "122937           96.995     0.277933  0.502318        0.277896   0.278484  \n",
       "122938           96.995     0.305074  0.299177        0.277896   0.278484  \n",
       "122939           96.995     0.330089  0.165133        0.277896   0.278484  \n",
       "\n",
       "[122940 rows x 18 columns]"
      ]
     },
     "execution_count": 39,
     "metadata": {},
     "output_type": "execute_result"
    }
   ],
   "source": [
    "df_market_history"
   ]
  },
  {
   "cell_type": "markdown",
   "metadata": {},
   "source": [
    "This data consists of end-of-day option prices, for 100 different ETF underlying, over four different expirations in late 2013 and early 2014.  There are a few other details that are worth noting to fully understand the dataset, but we won't concern ourselves with these for now.  For the purposes of this tutorial, just know that each row corresponds to the end-of-day price for a given option on a given day."
   ]
  },
  {
   "cell_type": "markdown",
   "metadata": {},
   "source": [
    "### Liquidity - Volume vs Spread"
   ]
  },
  {
   "cell_type": "markdown",
   "metadata": {},
   "source": [
    "*Liquidity* is an extremely important concept in trading.  We say that a security or instrument is *liquid* if three things hold.\n",
    "\n",
    "1. Large volumes trade daily.\n",
    "\n",
    "2. There is a narrow bid-ask spread.\n",
    "\n",
    "3. Large quantities can be traded with out moving the bid or ask.\n",
    "\n",
    "Usually it is the case that these three things go together.  The purpose of our first visualization analysis will be to demonstrate that #1 and #2 coincide in our options data."
   ]
  },
  {
   "cell_type": "markdown",
   "metadata": {},
   "source": [
    "Let's begin by creating a new column called `spread` to measure the spread of each option.  The spread for an option is the difference between the ask price and the bid price."
   ]
  },
  {
   "cell_type": "code",
   "execution_count": 40,
   "metadata": {},
   "outputs": [],
   "source": [
    "df_market_history['spread'] = df_market_history['ask'] - df_market_history['bid']"
   ]
  },
  {
   "cell_type": "markdown",
   "metadata": {},
   "source": [
    "Next, we will use a `groupby` statement to calculate the total volume over each underlying, as well as the average spread over each underlying."
   ]
  },
  {
   "cell_type": "code",
   "execution_count": 41,
   "metadata": {},
   "outputs": [],
   "source": [
    "df_volume = df_market_history.groupby('underlying')['volume'].sum().to_frame()\n",
    "df_spread = df_market_history.groupby('underlying')['spread'].mean().to_frame()"
   ]
  },
  {
   "cell_type": "markdown",
   "metadata": {},
   "source": [
    "Let's now combine together `df_volume` and `df_spread` into a single dataframe called liquidity."
   ]
  },
  {
   "cell_type": "code",
   "execution_count": 42,
   "metadata": {},
   "outputs": [],
   "source": [
    "df_liquidity = df_volume.join(df_spread, how = 'inner')"
   ]
  },
  {
   "cell_type": "markdown",
   "metadata": {},
   "source": [
    "Let's now graph a scatter plot with volume on the x-axis and average spread on the x-axis.  **How do you think it should look?**"
   ]
  },
  {
   "cell_type": "code",
   "execution_count": 43,
   "metadata": {},
   "outputs": [
    {
     "data": {
      "text/plain": [
       "<seaborn.axisgrid.FacetGrid at 0x1a2092b048>"
      ]
     },
     "execution_count": 43,
     "metadata": {},
     "output_type": "execute_result"
    },
    {
     "data": {
      "image/png": "[encoded data removed]",
      "text/plain": [
       "<Figure size 360x360 with 1 Axes>"
      ]
     },
     "metadata": {},
     "output_type": "display_data"
    }
   ],
   "source": [
    "# Create scatterplot of dataframe\n",
    "sns.lmplot('volume', # Horizontal axis\n",
    "           'spread', # Vertical axis\n",
    "           data=df_liquidity, # Data source\n",
    "           fit_reg=False\n",
    "          )"
   ]
  },
  {
   "cell_type": "markdown",
   "metadata": {},
   "source": [
    "This scatter plot doesn't look very good because there are a couple of underlyings with way more volume than the rest.  Can you guess what one of the outlier underlyings there is.\n",
    "\n",
    "In order to better see the relationship, let's calculate the log of the volume."
   ]
  },
  {
   "cell_type": "code",
   "execution_count": 44,
   "metadata": {},
   "outputs": [],
   "source": [
    "df_liquidity['log_volume'] = np.log(df_liquidity['volume'])"
   ]
  },
  {
   "cell_type": "markdown",
   "metadata": {},
   "source": [
    "Now if we graph the `log-volume` against the `spread` we can see the relationship that we would expect."
   ]
  },
  {
   "cell_type": "code",
   "execution_count": 45,
   "metadata": {},
   "outputs": [
    {
     "data": {
      "text/plain": [
       "<seaborn.axisgrid.FacetGrid at 0x1a1cb5af60>"
      ]
     },
     "execution_count": 45,
     "metadata": {},
     "output_type": "execute_result"
    },
    {
     "data": {
      "image/png": "[encoded data removed]",
      "text/plain": [
       "<Figure size 360x360 with 1 Axes>"
      ]
     },
     "metadata": {},
     "output_type": "display_data"
    }
   ],
   "source": [
    "sns.lmplot('log_volume', # Horizontal axis\n",
    "           'spread', # Vertical axis\n",
    "           data=df_liquidity, # Data source\n",
    "           fit_reg=False # Don't fix a regression line\n",
    "          )"
   ]
  },
  {
   "cell_type": "code",
   "execution_count": null,
   "metadata": {},
   "outputs": [],
   "source": []
  }
 ],
 "metadata": {
  "kernelspec": {
   "display_name": "Python 3",
   "language": "python",
   "name": "python3"
  },
  "language_info": {
   "codemirror_mode": {
    "name": "ipython",
    "version": 3
   },
   "file_extension": ".py",
   "mimetype": "text/x-python",
   "name": "python",
   "nbconvert_exporter": "python",
   "pygments_lexer": "ipython3",
   "version": "3.6.5"
  }
 },
 "nbformat": 4,
 "nbformat_minor": 2
}
