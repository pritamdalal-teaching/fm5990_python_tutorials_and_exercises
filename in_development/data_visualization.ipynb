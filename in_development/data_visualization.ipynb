{
 "cells": [
  {
   "cell_type": "markdown",
   "metadata": {},
   "source": [
    "# Tutorial 3 - Data Visualization"
   ]
  },
  {
   "cell_type": "markdown",
   "metadata": {},
   "source": [
    "### Objective"
   ]
  },
  {
   "cell_type": "markdown",
   "metadata": {},
   "source": [
    "The purpose of this tutorial is to give a brief introduction to the data visualization capabilities of Python.  Data visualization is a massive topic and we are only going to scratch the surface."
   ]
  },
  {
   "cell_type": "markdown",
   "metadata": {},
   "source": [
    "The foundation of data visualization is the `matplotlib` package.  Another package that is quite useful is the `seaborn` package.  We will utilize both in this tutorial."
   ]
  },
  {
   "cell_type": "markdown",
   "metadata": {},
   "source": [
    "### Loading Packages and Configuration"
   ]
  },
  {
   "cell_type": "markdown",
   "metadata": {},
   "source": [
    "Let's begin by importing the packages that we need."
   ]
  },
  {
   "cell_type": "code",
   "execution_count": 54,
   "metadata": {},
   "outputs": [],
   "source": [
    "##> import numpy as np\n",
    "##> import pandas as pd\n",
    "##> import matplotlib.pyplot as plt\n",
    "##> import seaborn as sns\n",
    "\n"
   ]
  },
  {
   "cell_type": "markdown",
   "metadata": {},
   "source": [
    "Now that we have the packages loaded, we'll do a bit of configuration of the Jupyter environment.  First, in order to see the graphs within the sheet, we need to run the following."
   ]
  },
  {
   "cell_type": "code",
   "execution_count": 36,
   "metadata": {},
   "outputs": [],
   "source": [
    "##> %matplotlib inline\n"
   ]
  },
  {
   "cell_type": "markdown",
   "metadata": {},
   "source": [
    "This bit of code above that starts with a `%` is called an *IPython magic* command.  IPython magics are another way in which IPython enhances the baseline functionality of Python.  We won't concern ourselves anymore about magic commands in this tutorial, but it's good to be aware of their existance."
   ]
  },
  {
   "cell_type": "markdown",
   "metadata": {},
   "source": [
    "The next few lines of code are a matter of preference.  The first limits the number of rows that are printed when you print a dataframe, and the next two prints all lines of the code that have an outputs (as opposed to just the final line, which is the default behavior in Jupyter)."
   ]
  },
  {
   "cell_type": "code",
   "execution_count": 55,
   "metadata": {},
   "outputs": [],
   "source": [
    "##> pd.options.display.max_rows = 6\n",
    "##> from IPython.core.interactiveshell import InteractiveShell\n",
    "##> InteractiveShell.ast_node_interactivity = \"all\"\n",
    "\n"
   ]
  },
  {
   "cell_type": "markdown",
   "metadata": {},
   "source": [
    "### Reading In the Data"
   ]
  },
  {
   "cell_type": "markdown",
   "metadata": {},
   "source": [
    "We are going to performs some visualization exercises with the data in the `practice_market_history.csv` file that can be found in the `data` folder.  To load the data we us the following code:"
   ]
  },
  {
   "cell_type": "code",
   "execution_count": 57,
   "metadata": {},
   "outputs": [],
   "source": [
    "##> df_market_history = pd.read_csv('data/practice_market_history.csv')\n",
    "\n"
   ]
  },
  {
   "cell_type": "markdown",
   "metadata": {},
   "source": [
    "Let's have a look at the data."
   ]
  },
  {
   "cell_type": "code",
   "execution_count": 59,
   "metadata": {},
   "outputs": [],
   "source": [
    "##> df_market_history\n",
    "\n"
   ]
  },
  {
   "cell_type": "markdown",
   "metadata": {},
   "source": [
    "This data consists of end-of-day option prices, for 100 different ETF underlying, over four different expirations in late 2013 and early 2014.  There are a few other details that are worth noting to fully understand the dataset, but we won't concern ourselves with these for now.  For the purposes of this tutorial, just know that each row corresponds to the end-of-day price for a given option on a given day."
   ]
  },
  {
   "cell_type": "markdown",
   "metadata": {},
   "source": [
    "### Liquidity - Volume vs Spread"
   ]
  },
  {
   "cell_type": "markdown",
   "metadata": {},
   "source": [
    "*Liquidity* is an extremely important concept in trading.  We say that a security or instrument is *liquid* if three things hold.\n",
    "\n",
    "1. Large volumes trade daily.\n",
    "\n",
    "2. There is a narrow bid-ask spread.\n",
    "\n",
    "3. Large quantities can be traded with out moving the bid or ask.\n",
    "\n",
    "Usually it is the case that these three things go together.  The purpose of our first visualization analysis will be to demonstrate that #1 and #2 coincide in our options data."
   ]
  },
  {
   "cell_type": "markdown",
   "metadata": {},
   "source": [
    "Let's begin by creating a new column called `spread` to measure the spread of each option.  The spread for an option is the difference between the ask price and the bid price."
   ]
  },
  {
   "cell_type": "code",
   "execution_count": 60,
   "metadata": {},
   "outputs": [],
   "source": [
    "##> df_market_history['spread'] = df_market_history['ask'] - df_market_history['bid']\n",
    "\n"
   ]
  },
  {
   "cell_type": "markdown",
   "metadata": {},
   "source": [
    "Next, we will use a `groupby` statement to calculate the total volume over each underlying, as well as the average spread over each underlying."
   ]
  },
  {
   "cell_type": "code",
   "execution_count": 62,
   "metadata": {},
   "outputs": [],
   "source": [
    "##> df_volume = df_market_history.groupby('underlying')['volume'].sum().to_frame()\n",
    "##> df_spread = df_market_history.groupby('underlying')['spread'].mean().to_frame()\n",
    "\n"
   ]
  },
  {
   "cell_type": "markdown",
   "metadata": {},
   "source": [
    "Let's now combine together `df_volume` and `df_spread` into a single dataframe called liquidity."
   ]
  },
  {
   "cell_type": "code",
   "execution_count": 63,
   "metadata": {},
   "outputs": [],
   "source": [
    "##> df_liquidity = df_volume.join(df_spread, how = 'inner')\n"
   ]
  },
  {
   "cell_type": "markdown",
   "metadata": {},
   "source": [
    "Let's now graph a scatter plot with volume on the x-axis and average spread on the x-axis.  **How do you think it should look?**"
   ]
  },
  {
   "cell_type": "code",
   "execution_count": 64,
   "metadata": {},
   "outputs": [],
   "source": [
    "##> sns.lmplot('volume', # Horizontal axis\n",
    "##>            'spread', # Vertical axis\n",
    "##>            data=df_liquidity, # Data source\n",
    "##>            fit_reg=False\n",
    "##>           )\n",
    "\n"
   ]
  },
  {
   "cell_type": "markdown",
   "metadata": {},
   "source": [
    "This scatter plot doesn't look very good because there are a couple of underlyings with way more volume than the rest.  Can you guess what one of the outlier underlyings there is.\n",
    "\n",
    "In order to better see the relationship, let's calculate the log of the volume."
   ]
  },
  {
   "cell_type": "code",
   "execution_count": 65,
   "metadata": {},
   "outputs": [],
   "source": [
    "##> df_liquidity['log_volume'] = np.log(df_liquidity['volume'])"
   ]
  },
  {
   "cell_type": "markdown",
   "metadata": {},
   "source": [
    "Now if we graph the `log-volume` against the `spread` we can see the relationship that we would expect."
   ]
  },
  {
   "cell_type": "code",
   "execution_count": 66,
   "metadata": {},
   "outputs": [],
   "source": [
    "##> sns.lmplot('log_volume', # Horizontal axis\n",
    "##>           'spread', # Vertical axis\n",
    "##>            data=df_liquidity, # Data source\n",
    "##>            fit_reg=False # Don't fix a regression line\n",
    "##>           )\n",
    "\n"
   ]
  }
 ],
 "metadata": {
  "kernelspec": {
   "display_name": "Python 3",
   "language": "python",
   "name": "python3"
  },
  "language_info": {
   "codemirror_mode": {
    "name": "ipython",
    "version": 3
   },
   "file_extension": ".py",
   "mimetype": "text/x-python",
   "name": "python",
   "nbconvert_exporter": "python",
   "pygments_lexer": "ipython3",
   "version": "3.6.5"
  }
 },
 "nbformat": 4,
 "nbformat_minor": 2
}
