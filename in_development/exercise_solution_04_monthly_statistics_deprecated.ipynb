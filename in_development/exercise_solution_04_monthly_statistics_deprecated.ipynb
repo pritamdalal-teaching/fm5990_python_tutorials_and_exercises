{
 "cells": [
  {
   "cell_type": "markdown",
   "metadata": {},
   "source": [
    "# Exercise 4 - Calculating Monthly Statistics"
   ]
  },
  {
   "cell_type": "code",
   "execution_count": 1,
   "metadata": {},
   "outputs": [],
   "source": [
    "import numpy as np\n",
    "import pandas as pd"
   ]
  },
  {
   "cell_type": "code",
   "execution_count": 2,
   "metadata": {},
   "outputs": [
    {
     "data": {
      "text/html": [
       "<div>\n",
       "<style scoped>\n",
       "    .dataframe tbody tr th:only-of-type {\n",
       "        vertical-align: middle;\n",
       "    }\n",
       "\n",
       "    .dataframe tbody tr th {\n",
       "        vertical-align: top;\n",
       "    }\n",
       "\n",
       "    .dataframe thead th {\n",
       "        text-align: right;\n",
       "    }\n",
       "</style>\n",
       "<table border=\"1\" class=\"dataframe\">\n",
       "  <thead>\n",
       "    <tr style=\"text-align: right;\">\n",
       "      <th></th>\n",
       "      <th>symbol</th>\n",
       "      <th>date</th>\n",
       "      <th>open</th>\n",
       "      <th>high</th>\n",
       "      <th>low</th>\n",
       "      <th>close</th>\n",
       "      <th>volume</th>\n",
       "      <th>adjusted</th>\n",
       "      <th>daily_return</th>\n",
       "    </tr>\n",
       "  </thead>\n",
       "  <tbody>\n",
       "    <tr>\n",
       "      <th>0</th>\n",
       "      <td>XLY</td>\n",
       "      <td>2018-01-02</td>\n",
       "      <td>99.110001</td>\n",
       "      <td>100.190002</td>\n",
       "      <td>99.110001</td>\n",
       "      <td>100.190002</td>\n",
       "      <td>4895600</td>\n",
       "      <td>98.949463</td>\n",
       "      <td>0.015199</td>\n",
       "    </tr>\n",
       "    <tr>\n",
       "      <th>1</th>\n",
       "      <td>XLY</td>\n",
       "      <td>2018-01-03</td>\n",
       "      <td>100.290001</td>\n",
       "      <td>100.730003</td>\n",
       "      <td>100.269997</td>\n",
       "      <td>100.650002</td>\n",
       "      <td>5319000</td>\n",
       "      <td>99.403770</td>\n",
       "      <td>0.004591</td>\n",
       "    </tr>\n",
       "    <tr>\n",
       "      <th>2</th>\n",
       "      <td>XLY</td>\n",
       "      <td>2018-01-04</td>\n",
       "      <td>101.040001</td>\n",
       "      <td>101.110001</td>\n",
       "      <td>100.459999</td>\n",
       "      <td>100.980003</td>\n",
       "      <td>3457400</td>\n",
       "      <td>99.729675</td>\n",
       "      <td>0.003279</td>\n",
       "    </tr>\n",
       "    <tr>\n",
       "      <th>3</th>\n",
       "      <td>XLY</td>\n",
       "      <td>2018-01-05</td>\n",
       "      <td>101.430000</td>\n",
       "      <td>101.830002</td>\n",
       "      <td>101.199997</td>\n",
       "      <td>101.779999</td>\n",
       "      <td>4294400</td>\n",
       "      <td>100.519768</td>\n",
       "      <td>0.007922</td>\n",
       "    </tr>\n",
       "    <tr>\n",
       "      <th>4</th>\n",
       "      <td>XLY</td>\n",
       "      <td>2018-01-08</td>\n",
       "      <td>101.830002</td>\n",
       "      <td>102.070000</td>\n",
       "      <td>101.699997</td>\n",
       "      <td>101.900002</td>\n",
       "      <td>2670000</td>\n",
       "      <td>100.638283</td>\n",
       "      <td>0.001179</td>\n",
       "    </tr>\n",
       "  </tbody>\n",
       "</table>\n",
       "</div>"
      ],
      "text/plain": [
       "  symbol        date        open        high         low       close   volume  \\\n",
       "0    XLY  2018-01-02   99.110001  100.190002   99.110001  100.190002  4895600   \n",
       "1    XLY  2018-01-03  100.290001  100.730003  100.269997  100.650002  5319000   \n",
       "2    XLY  2018-01-04  101.040001  101.110001  100.459999  100.980003  3457400   \n",
       "3    XLY  2018-01-05  101.430000  101.830002  101.199997  101.779999  4294400   \n",
       "4    XLY  2018-01-08  101.830002  102.070000  101.699997  101.900002  2670000   \n",
       "\n",
       "     adjusted  daily_return  \n",
       "0   98.949463      0.015199  \n",
       "1   99.403770      0.004591  \n",
       "2   99.729675      0.003279  \n",
       "3  100.519768      0.007922  \n",
       "4  100.638283      0.001179  "
      ]
     },
     "execution_count": 2,
     "metadata": {},
     "output_type": "execute_result"
    }
   ],
   "source": [
    "df_etf = pd.read_csv('../data/sector_eft_2018.csv')\n",
    "df_etf.head()"
   ]
  },
  {
   "cell_type": "code",
   "execution_count": 3,
   "metadata": {},
   "outputs": [
    {
     "data": {
      "text/plain": [
       "10"
      ]
     },
     "execution_count": 3,
     "metadata": {},
     "output_type": "execute_result"
    }
   ],
   "source": [
    "df_etf['symbol'].unique()\n",
    "df_etf['symbol'].unique().size"
   ]
  },
  {
   "cell_type": "code",
   "execution_count": 4,
   "metadata": {},
   "outputs": [
    {
     "data": {
      "text/plain": [
       "symbol           object\n",
       "date             object\n",
       "open            float64\n",
       "high            float64\n",
       "low             float64\n",
       "close           float64\n",
       "volume            int64\n",
       "adjusted        float64\n",
       "daily_return    float64\n",
       "dtype: object"
      ]
     },
     "execution_count": 4,
     "metadata": {},
     "output_type": "execute_result"
    }
   ],
   "source": [
    "df_etf.dtypes"
   ]
  },
  {
   "cell_type": "code",
   "execution_count": 5,
   "metadata": {},
   "outputs": [],
   "source": [
    "df_etf['date'] = pd.to_datetime(df_etf['date'])"
   ]
  },
  {
   "cell_type": "code",
   "execution_count": 6,
   "metadata": {},
   "outputs": [
    {
     "data": {
      "text/plain": [
       "symbol                  object\n",
       "date            datetime64[ns]\n",
       "open                   float64\n",
       "high                   float64\n",
       "low                    float64\n",
       "close                  float64\n",
       "volume                   int64\n",
       "adjusted               float64\n",
       "daily_return           float64\n",
       "dtype: object"
      ]
     },
     "execution_count": 6,
     "metadata": {},
     "output_type": "execute_result"
    }
   ],
   "source": [
    "df_etf.dtypes"
   ]
  },
  {
   "cell_type": "code",
   "execution_count": 7,
   "metadata": {},
   "outputs": [
    {
     "data": {
      "text/html": [
       "<div>\n",
       "<style scoped>\n",
       "    .dataframe tbody tr th:only-of-type {\n",
       "        vertical-align: middle;\n",
       "    }\n",
       "\n",
       "    .dataframe tbody tr th {\n",
       "        vertical-align: top;\n",
       "    }\n",
       "\n",
       "    .dataframe thead th {\n",
       "        text-align: right;\n",
       "    }\n",
       "</style>\n",
       "<table border=\"1\" class=\"dataframe\">\n",
       "  <thead>\n",
       "    <tr style=\"text-align: right;\">\n",
       "      <th></th>\n",
       "      <th>symbol</th>\n",
       "      <th>date</th>\n",
       "      <th>open</th>\n",
       "      <th>high</th>\n",
       "      <th>low</th>\n",
       "      <th>close</th>\n",
       "      <th>volume</th>\n",
       "      <th>adjusted</th>\n",
       "      <th>daily_return</th>\n",
       "      <th>year</th>\n",
       "      <th>month</th>\n",
       "    </tr>\n",
       "  </thead>\n",
       "  <tbody>\n",
       "    <tr>\n",
       "      <th>0</th>\n",
       "      <td>XLY</td>\n",
       "      <td>2018-01-02</td>\n",
       "      <td>99.110001</td>\n",
       "      <td>100.190002</td>\n",
       "      <td>99.110001</td>\n",
       "      <td>100.190002</td>\n",
       "      <td>4895600</td>\n",
       "      <td>98.949463</td>\n",
       "      <td>0.015199</td>\n",
       "      <td>2018</td>\n",
       "      <td>1</td>\n",
       "    </tr>\n",
       "    <tr>\n",
       "      <th>1</th>\n",
       "      <td>XLY</td>\n",
       "      <td>2018-01-03</td>\n",
       "      <td>100.290001</td>\n",
       "      <td>100.730003</td>\n",
       "      <td>100.269997</td>\n",
       "      <td>100.650002</td>\n",
       "      <td>5319000</td>\n",
       "      <td>99.403770</td>\n",
       "      <td>0.004591</td>\n",
       "      <td>2018</td>\n",
       "      <td>1</td>\n",
       "    </tr>\n",
       "    <tr>\n",
       "      <th>2</th>\n",
       "      <td>XLY</td>\n",
       "      <td>2018-01-04</td>\n",
       "      <td>101.040001</td>\n",
       "      <td>101.110001</td>\n",
       "      <td>100.459999</td>\n",
       "      <td>100.980003</td>\n",
       "      <td>3457400</td>\n",
       "      <td>99.729675</td>\n",
       "      <td>0.003279</td>\n",
       "      <td>2018</td>\n",
       "      <td>1</td>\n",
       "    </tr>\n",
       "    <tr>\n",
       "      <th>3</th>\n",
       "      <td>XLY</td>\n",
       "      <td>2018-01-05</td>\n",
       "      <td>101.430000</td>\n",
       "      <td>101.830002</td>\n",
       "      <td>101.199997</td>\n",
       "      <td>101.779999</td>\n",
       "      <td>4294400</td>\n",
       "      <td>100.519768</td>\n",
       "      <td>0.007922</td>\n",
       "      <td>2018</td>\n",
       "      <td>1</td>\n",
       "    </tr>\n",
       "    <tr>\n",
       "      <th>4</th>\n",
       "      <td>XLY</td>\n",
       "      <td>2018-01-08</td>\n",
       "      <td>101.830002</td>\n",
       "      <td>102.070000</td>\n",
       "      <td>101.699997</td>\n",
       "      <td>101.900002</td>\n",
       "      <td>2670000</td>\n",
       "      <td>100.638283</td>\n",
       "      <td>0.001179</td>\n",
       "      <td>2018</td>\n",
       "      <td>1</td>\n",
       "    </tr>\n",
       "  </tbody>\n",
       "</table>\n",
       "</div>"
      ],
      "text/plain": [
       "  symbol       date        open        high         low       close   volume  \\\n",
       "0    XLY 2018-01-02   99.110001  100.190002   99.110001  100.190002  4895600   \n",
       "1    XLY 2018-01-03  100.290001  100.730003  100.269997  100.650002  5319000   \n",
       "2    XLY 2018-01-04  101.040001  101.110001  100.459999  100.980003  3457400   \n",
       "3    XLY 2018-01-05  101.430000  101.830002  101.199997  101.779999  4294400   \n",
       "4    XLY 2018-01-08  101.830002  102.070000  101.699997  101.900002  2670000   \n",
       "\n",
       "     adjusted  daily_return  year  month  \n",
       "0   98.949463      0.015199  2018      1  \n",
       "1   99.403770      0.004591  2018      1  \n",
       "2   99.729675      0.003279  2018      1  \n",
       "3  100.519768      0.007922  2018      1  \n",
       "4  100.638283      0.001179  2018      1  "
      ]
     },
     "execution_count": 7,
     "metadata": {},
     "output_type": "execute_result"
    }
   ],
   "source": [
    "df_etf['year'] = df_etf['date'].dt.year\n",
    "df_etf['month'] = df_etf['date'].dt.month\n",
    "df_etf.head()"
   ]
  },
  {
   "cell_type": "code",
   "execution_count": 32,
   "metadata": {},
   "outputs": [
    {
     "data": {
      "text/html": [
       "<div>\n",
       "<style scoped>\n",
       "    .dataframe tbody tr th:only-of-type {\n",
       "        vertical-align: middle;\n",
       "    }\n",
       "\n",
       "    .dataframe tbody tr th {\n",
       "        vertical-align: top;\n",
       "    }\n",
       "\n",
       "    .dataframe thead th {\n",
       "        text-align: right;\n",
       "    }\n",
       "</style>\n",
       "<table border=\"1\" class=\"dataframe\">\n",
       "  <thead>\n",
       "    <tr style=\"text-align: right;\">\n",
       "      <th></th>\n",
       "      <th>symbol</th>\n",
       "      <th>year</th>\n",
       "      <th>month</th>\n",
       "      <th>0</th>\n",
       "    </tr>\n",
       "  </thead>\n",
       "  <tbody>\n",
       "    <tr>\n",
       "      <th>0</th>\n",
       "      <td>XLB</td>\n",
       "      <td>2018</td>\n",
       "      <td>1</td>\n",
       "      <td>21</td>\n",
       "    </tr>\n",
       "    <tr>\n",
       "      <th>1</th>\n",
       "      <td>XLB</td>\n",
       "      <td>2018</td>\n",
       "      <td>2</td>\n",
       "      <td>19</td>\n",
       "    </tr>\n",
       "    <tr>\n",
       "      <th>2</th>\n",
       "      <td>XLB</td>\n",
       "      <td>2018</td>\n",
       "      <td>3</td>\n",
       "      <td>21</td>\n",
       "    </tr>\n",
       "    <tr>\n",
       "      <th>3</th>\n",
       "      <td>XLB</td>\n",
       "      <td>2018</td>\n",
       "      <td>4</td>\n",
       "      <td>21</td>\n",
       "    </tr>\n",
       "    <tr>\n",
       "      <th>4</th>\n",
       "      <td>XLB</td>\n",
       "      <td>2018</td>\n",
       "      <td>5</td>\n",
       "      <td>22</td>\n",
       "    </tr>\n",
       "  </tbody>\n",
       "</table>\n",
       "</div>"
      ],
      "text/plain": [
       "  symbol  year  month   0\n",
       "0    XLB  2018      1  21\n",
       "1    XLB  2018      2  19\n",
       "2    XLB  2018      3  21\n",
       "3    XLB  2018      4  21\n",
       "4    XLB  2018      5  22"
      ]
     },
     "execution_count": 32,
     "metadata": {},
     "output_type": "execute_result"
    }
   ],
   "source": [
    "df_etf.groupby(['symbol', 'year', 'month']).size().reset_index().head()"
   ]
  },
  {
   "cell_type": "code",
   "execution_count": 17,
   "metadata": {},
   "outputs": [],
   "source": [
    "def month_ret(ret):\n",
    "    return np.prod(1 + ret) - 1"
   ]
  },
  {
   "cell_type": "code",
   "execution_count": 19,
   "metadata": {},
   "outputs": [
    {
     "data": {
      "text/html": [
       "<div>\n",
       "<style scoped>\n",
       "    .dataframe tbody tr th:only-of-type {\n",
       "        vertical-align: middle;\n",
       "    }\n",
       "\n",
       "    .dataframe tbody tr th {\n",
       "        vertical-align: top;\n",
       "    }\n",
       "\n",
       "    .dataframe thead th {\n",
       "        text-align: right;\n",
       "    }\n",
       "</style>\n",
       "<table border=\"1\" class=\"dataframe\">\n",
       "  <thead>\n",
       "    <tr style=\"text-align: right;\">\n",
       "      <th></th>\n",
       "      <th>symbol</th>\n",
       "      <th>month</th>\n",
       "      <th>year</th>\n",
       "      <th>month_ret</th>\n",
       "    </tr>\n",
       "  </thead>\n",
       "  <tbody>\n",
       "    <tr>\n",
       "      <th>0</th>\n",
       "      <td>XLB</td>\n",
       "      <td>1</td>\n",
       "      <td>2018</td>\n",
       "      <td>0.039980</td>\n",
       "    </tr>\n",
       "    <tr>\n",
       "      <th>1</th>\n",
       "      <td>XLB</td>\n",
       "      <td>2</td>\n",
       "      <td>2018</td>\n",
       "      <td>-0.052740</td>\n",
       "    </tr>\n",
       "    <tr>\n",
       "      <th>2</th>\n",
       "      <td>XLB</td>\n",
       "      <td>3</td>\n",
       "      <td>2018</td>\n",
       "      <td>-0.041463</td>\n",
       "    </tr>\n",
       "    <tr>\n",
       "      <th>3</th>\n",
       "      <td>XLB</td>\n",
       "      <td>4</td>\n",
       "      <td>2018</td>\n",
       "      <td>0.001229</td>\n",
       "    </tr>\n",
       "    <tr>\n",
       "      <th>4</th>\n",
       "      <td>XLB</td>\n",
       "      <td>5</td>\n",
       "      <td>2018</td>\n",
       "      <td>0.020523</td>\n",
       "    </tr>\n",
       "  </tbody>\n",
       "</table>\n",
       "</div>"
      ],
      "text/plain": [
       "  symbol  month  year  month_ret\n",
       "0    XLB      1  2018   0.039980\n",
       "1    XLB      2  2018  -0.052740\n",
       "2    XLB      3  2018  -0.041463\n",
       "3    XLB      4  2018   0.001229\n",
       "4    XLB      5  2018   0.020523"
      ]
     },
     "execution_count": 19,
     "metadata": {},
     "output_type": "execute_result"
    }
   ],
   "source": [
    "df_etf.groupby(['symbol', 'month', 'year'])['daily_return'].agg([month_ret]).reset_index().head()"
   ]
  },
  {
   "cell_type": "code",
   "execution_count": 31,
   "metadata": {},
   "outputs": [
    {
     "data": {
      "text/html": [
       "<div>\n",
       "<style scoped>\n",
       "    .dataframe tbody tr th:only-of-type {\n",
       "        vertical-align: middle;\n",
       "    }\n",
       "\n",
       "    .dataframe tbody tr th {\n",
       "        vertical-align: top;\n",
       "    }\n",
       "\n",
       "    .dataframe thead th {\n",
       "        text-align: right;\n",
       "    }\n",
       "</style>\n",
       "<table border=\"1\" class=\"dataframe\">\n",
       "  <thead>\n",
       "    <tr style=\"text-align: right;\">\n",
       "      <th></th>\n",
       "      <th>symbol</th>\n",
       "      <th>month</th>\n",
       "      <th>year</th>\n",
       "      <th>&lt;lambda&gt;</th>\n",
       "    </tr>\n",
       "  </thead>\n",
       "  <tbody>\n",
       "    <tr>\n",
       "      <th>0</th>\n",
       "      <td>XLB</td>\n",
       "      <td>1</td>\n",
       "      <td>2018</td>\n",
       "      <td>0.039980</td>\n",
       "    </tr>\n",
       "    <tr>\n",
       "      <th>1</th>\n",
       "      <td>XLB</td>\n",
       "      <td>2</td>\n",
       "      <td>2018</td>\n",
       "      <td>-0.052740</td>\n",
       "    </tr>\n",
       "    <tr>\n",
       "      <th>2</th>\n",
       "      <td>XLB</td>\n",
       "      <td>3</td>\n",
       "      <td>2018</td>\n",
       "      <td>-0.041463</td>\n",
       "    </tr>\n",
       "    <tr>\n",
       "      <th>3</th>\n",
       "      <td>XLB</td>\n",
       "      <td>4</td>\n",
       "      <td>2018</td>\n",
       "      <td>0.001229</td>\n",
       "    </tr>\n",
       "    <tr>\n",
       "      <th>4</th>\n",
       "      <td>XLB</td>\n",
       "      <td>5</td>\n",
       "      <td>2018</td>\n",
       "      <td>0.020523</td>\n",
       "    </tr>\n",
       "    <tr>\n",
       "      <th>...</th>\n",
       "      <td>...</td>\n",
       "      <td>...</td>\n",
       "      <td>...</td>\n",
       "      <td>...</td>\n",
       "    </tr>\n",
       "    <tr>\n",
       "      <th>115</th>\n",
       "      <td>XLY</td>\n",
       "      <td>8</td>\n",
       "      <td>2018</td>\n",
       "      <td>0.051047</td>\n",
       "    </tr>\n",
       "    <tr>\n",
       "      <th>116</th>\n",
       "      <td>XLY</td>\n",
       "      <td>9</td>\n",
       "      <td>2018</td>\n",
       "      <td>0.005304</td>\n",
       "    </tr>\n",
       "    <tr>\n",
       "      <th>117</th>\n",
       "      <td>XLY</td>\n",
       "      <td>10</td>\n",
       "      <td>2018</td>\n",
       "      <td>-0.101007</td>\n",
       "    </tr>\n",
       "    <tr>\n",
       "      <th>118</th>\n",
       "      <td>XLY</td>\n",
       "      <td>11</td>\n",
       "      <td>2018</td>\n",
       "      <td>0.024767</td>\n",
       "    </tr>\n",
       "    <tr>\n",
       "      <th>119</th>\n",
       "      <td>XLY</td>\n",
       "      <td>12</td>\n",
       "      <td>2018</td>\n",
       "      <td>-0.079562</td>\n",
       "    </tr>\n",
       "  </tbody>\n",
       "</table>\n",
       "<p>120 rows × 4 columns</p>\n",
       "</div>"
      ],
      "text/plain": [
       "    symbol  month  year  <lambda>\n",
       "0      XLB      1  2018  0.039980\n",
       "1      XLB      2  2018 -0.052740\n",
       "2      XLB      3  2018 -0.041463\n",
       "3      XLB      4  2018  0.001229\n",
       "4      XLB      5  2018  0.020523\n",
       "..     ...    ...   ...       ...\n",
       "115    XLY      8  2018  0.051047\n",
       "116    XLY      9  2018  0.005304\n",
       "117    XLY     10  2018 -0.101007\n",
       "118    XLY     11  2018  0.024767\n",
       "119    XLY     12  2018 -0.079562\n",
       "\n",
       "[120 rows x 4 columns]"
      ]
     },
     "execution_count": 31,
     "metadata": {},
     "output_type": "execute_result"
    }
   ],
   "source": [
    "pd.options.display.max_rows = 10\n",
    "df_etf.groupby(['symbol', 'month', 'year'])['daily_return'].agg([lambda x: np.prod(1 + x) - 1]).reset_index()"
   ]
  },
  {
   "cell_type": "code",
   "execution_count": 26,
   "metadata": {},
   "outputs": [
    {
     "data": {
      "text/plain": [
       "[2, 4, 6]"
      ]
     },
     "execution_count": 26,
     "metadata": {},
     "output_type": "execute_result"
    }
   ],
   "source": [
    "list(map(lambda x: 2*x, [1, 2, 3]))"
   ]
  },
  {
   "cell_type": "code",
   "execution_count": 29,
   "metadata": {},
   "outputs": [
    {
     "data": {
      "text/plain": [
       "[1, 3, 5, 7, 9]"
      ]
     },
     "execution_count": 29,
     "metadata": {},
     "output_type": "execute_result"
    }
   ],
   "source": [
    "list(filter((lambda x: (x%2 != 0)), range(10)))"
   ]
  },
  {
   "cell_type": "code",
   "execution_count": null,
   "metadata": {},
   "outputs": [],
   "source": []
  },
  {
   "cell_type": "code",
   "execution_count": null,
   "metadata": {},
   "outputs": [],
   "source": []
  },
  {
   "cell_type": "code",
   "execution_count": null,
   "metadata": {},
   "outputs": [],
   "source": []
  },
  {
   "cell_type": "code",
   "execution_count": null,
   "metadata": {},
   "outputs": [],
   "source": []
  }
 ],
 "metadata": {
  "kernelspec": {
   "display_name": "Python 3",
   "language": "python",
   "name": "python3"
  },
  "language_info": {
   "codemirror_mode": {
    "name": "ipython",
    "version": 3
   },
   "file_extension": ".py",
   "mimetype": "text/x-python",
   "name": "python",
   "nbconvert_exporter": "python",
   "pygments_lexer": "ipython3",
   "version": "3.6.8"
  }
 },
 "nbformat": 4,
 "nbformat_minor": 2
}
