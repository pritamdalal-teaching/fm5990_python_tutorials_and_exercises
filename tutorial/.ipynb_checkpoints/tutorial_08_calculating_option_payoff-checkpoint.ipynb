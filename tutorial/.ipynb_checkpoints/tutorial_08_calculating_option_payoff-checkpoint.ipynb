{
 "cells": [
  {
   "cell_type": "markdown",
   "metadata": {},
   "source": [
    "# Tutorial 8 - Calculating Option Payoffs"
   ]
  },
  {
   "cell_type": "markdown",
   "metadata": {},
   "source": [
    "The purpose of this short tutorial is to apply our knowledge of functions and flow control to a simple finance task: calculating the payoff of an expiring option."
   ]
  },
  {
   "cell_type": "markdown",
   "metadata": {},
   "source": [
    "## Loading Packages"
   ]
  },
  {
   "cell_type": "markdown",
   "metadata": {},
   "source": [
    "Let's load the packages that we will need."
   ]
  },
  {
   "cell_type": "code",
   "execution_count": 1,
   "metadata": {},
   "outputs": [],
   "source": [
    "##> import numpy as np\n",
    "##> import pandas as pd\n",
    "\n",
    "\n"
   ]
  },
  {
   "cell_type": "markdown",
   "metadata": {},
   "source": [
    "## Reading-In Data"
   ]
  },
  {
   "cell_type": "markdown",
   "metadata": {},
   "source": [
    "Next, let's read in a data file called `spy_expiring_option.csv`. \n",
    "\n",
    "This data set consists of 21 different options on `SPY` that expire on November 16, 2018.  \n",
    "\n",
    "\n",
    "The `upx` column is the settle price of `SPY` from that day, and it will be used to calculate the payoff of each of these options."
   ]
  },
  {
   "cell_type": "code",
   "execution_count": 2,
   "metadata": {},
   "outputs": [],
   "source": [
    "##> df_opt = pd.read_csv(\"../data/spy_expiring_option.csv\")\n",
    "##> df_opt.head()\n",
    "\n",
    "\n"
   ]
  },
  {
   "cell_type": "markdown",
   "metadata": {},
   "source": [
    "## Initializing Payoff Column"
   ]
  },
  {
   "cell_type": "markdown",
   "metadata": {},
   "source": [
    "Our ultimate objective of this tutorial is to add a `payoff` column to `df_opt`, and have that column consists of the option payoffs.\n",
    "\n",
    "As a first step, let's add the column to `df_opt` and then initialize it with `NaN`, which is a special data type that represents missing numerical data."
   ]
  },
  {
   "cell_type": "code",
   "execution_count": 3,
   "metadata": {},
   "outputs": [],
   "source": [
    "##> df_opt['payoff'] = np.nan\n",
    "##> df_opt.head()\n",
    "\n"
   ]
  },
  {
   "cell_type": "markdown",
   "metadata": {},
   "source": [
    "## Defining Payoff Function"
   ]
  },
  {
   "cell_type": "markdown",
   "metadata": {},
   "source": [
    "In the previous tutorial we defined an option payoff function.  Let's recycle our code here:"
   ]
  },
  {
   "cell_type": "code",
   "execution_count": 4,
   "metadata": {},
   "outputs": [],
   "source": [
    "##> def option_payoff(cp, strike, upx):\n",
    "##>     if cp == \"call\":\n",
    "##>         payoff = max(upx - strike, 0)\n",
    "##>     elif cp == \"put\":\n",
    "##>         payoff = max(strike - upx, 0)\n",
    "##>     \n",
    "##>     return payoff\n",
    "\n",
    "\n",
    "\n",
    "\n",
    "\n"
   ]
  },
  {
   "cell_type": "markdown",
   "metadata": {},
   "source": [
    "Whenever I create a function, I like to test it out on a few values to make sure that it works as I expect."
   ]
  },
  {
   "cell_type": "code",
   "execution_count": 5,
   "metadata": {},
   "outputs": [],
   "source": [
    "##> print(option_payoff(\"call\", 100, 150))\n",
    "##> print(option_payoff('put', 100, 150))\n",
    "\n"
   ]
  },
  {
   "cell_type": "markdown",
   "metadata": {},
   "source": [
    "## Applying `option_payoff` to each Row of `df_opt` "
   ]
  },
  {
   "cell_type": "code",
   "execution_count": 6,
   "metadata": {},
   "outputs": [],
   "source": [
    "##> for ix in df_opt.index:\n",
    "##>     \n",
    "##>     # grabbing data from dataframe\n",
    "##>     opt_type = df_opt.at[ix, 'type']\n",
    "##>     strike = df_opt.at[ix, 'strike']\n",
    "##>     upx = df_opt.at[ix, 'upx']\n",
    "##>     \n",
    "##>     # calculating payoff\n",
    "##>     payoff = option_payoff(opt_type, strike, upx)\n",
    "##>     \n",
    "##>     # putting payoff in dataframe\n",
    "##>     df_opt.at[ix, 'payoff'] = payoff\n",
    "##>\n",
    "##> df_opt\n",
    "\n",
    "\n",
    "\n",
    "\n",
    "\n",
    "\n",
    "\n",
    "\n",
    "\n",
    "\n"
   ]
  },
  {
   "cell_type": "markdown",
   "metadata": {},
   "source": [
    "## Related Reading"
   ]
  },
  {
   "cell_type": "markdown",
   "metadata": {},
   "source": [
    "*WTP* - 8 - Control Flow\n",
    "\n",
    "*WTP* - 9 - Defining Functions\n",
    "\n",
    "*LOD* - 2 - Options 101 "
   ]
  }
 ],
 "metadata": {
  "kernelspec": {
   "display_name": "Python 3",
   "language": "python",
   "name": "python3"
  },
  "language_info": {
   "codemirror_mode": {
    "name": "ipython",
    "version": 3
   },
   "file_extension": ".py",
   "mimetype": "text/x-python",
   "name": "python",
   "nbconvert_exporter": "python",
   "pygments_lexer": "ipython3",
   "version": "3.6.8"
  }
 },
 "nbformat": 4,
 "nbformat_minor": 2
}
