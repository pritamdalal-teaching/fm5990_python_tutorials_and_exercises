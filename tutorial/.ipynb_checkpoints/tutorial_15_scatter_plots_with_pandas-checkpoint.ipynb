{
 "cells": [
  {
   "cell_type": "markdown",
   "metadata": {},
   "source": [
    "# Tutorial 15 - Scatter Plots"
   ]
  },
  {
   "cell_type": "markdown",
   "metadata": {},
   "source": [
    "The purpose of this tutorial is to demonstrate the `pandas` built-in functionality for easily creating scatter plots from the columns of a `DataFrame`.\n",
    "\n",
    "The financial task we will accomplish is to demonstrate SPY's *implied leverage effect*:  when the market suffers losses implied volatilty increases, when the market experiences gains implied volatility decreases.\n",
    "\n",
    "Our measure of SPY implied volatility will be the VIX index.  To verify the above relationship, we will plot SPY daily returns again daily changes in the VIX."
   ]
  },
  {
   "cell_type": "markdown",
   "metadata": {},
   "source": [
    "### Loading Packages"
   ]
  },
  {
   "cell_type": "code",
   "execution_count": 1,
   "metadata": {},
   "outputs": [],
   "source": [
    "##> import numpy as np\n",
    "##> import pandas as pd\n",
    "##> %matplotlib inline\n",
    "\n",
    "\n",
    "\n"
   ]
  },
  {
   "cell_type": "markdown",
   "metadata": {},
   "source": [
    "### Wrangling SPY Data"
   ]
  },
  {
   "cell_type": "markdown",
   "metadata": {},
   "source": [
    "Let's begin by reading in the SPY price data from 2014-2018:"
   ]
  },
  {
   "cell_type": "code",
   "execution_count": 2,
   "metadata": {},
   "outputs": [],
   "source": [
    "##> df_spy = pd.read_csv('../data/spy_2014_2018.csv')\n",
    "##> df_spy.head()\n",
    "\n",
    "\n"
   ]
  },
  {
   "cell_type": "markdown",
   "metadata": {},
   "source": [
    "Next, we refactor the `date` column as a `dtype` of `datetime`."
   ]
  },
  {
   "cell_type": "code",
   "execution_count": 3,
   "metadata": {},
   "outputs": [],
   "source": [
    "##> df_spy['date'] = pd.to_datetime(df_spy['date'])\n",
    "\n"
   ]
  },
  {
   "cell_type": "markdown",
   "metadata": {},
   "source": [
    "Finally, let's calculate the daily returns from the `adjusted` prices:"
   ]
  },
  {
   "cell_type": "code",
   "execution_count": 4,
   "metadata": {},
   "outputs": [],
   "source": [
    "##> df_spy['return'] = \\\n",
    "##>     np.log(df_spy['adjusted']) - np.log(df_spy['adjusted'].shift(1))\n",
    "##> df_spy.head()\n",
    "\n",
    "\n",
    "\n"
   ]
  },
  {
   "cell_type": "markdown",
   "metadata": {},
   "source": [
    "### Wrangling VIX Data"
   ]
  },
  {
   "cell_type": "markdown",
   "metadata": {},
   "source": [
    "The second data set that we are going to need is the VIX data from 2014-2018:"
   ]
  },
  {
   "cell_type": "code",
   "execution_count": 5,
   "metadata": {},
   "outputs": [],
   "source": [
    "##> df_vix_all = pd.read_csv('../data/vix_2014_2018.csv')\n",
    "##> df_vix_all.head()\n",
    "\n",
    "\n",
    "\n"
   ]
  },
  {
   "cell_type": "markdown",
   "metadata": {},
   "source": [
    "We only want the `date` and the `close` columns, so let's create a new `DataFrame` by copying these two columns."
   ]
  },
  {
   "cell_type": "code",
   "execution_count": 6,
   "metadata": {},
   "outputs": [],
   "source": [
    "##> df_vix = df_vix_all[['date', 'close']].copy()\n",
    "##> df_vix.head()\n",
    "\n",
    "\n"
   ]
  },
  {
   "cell_type": "markdown",
   "metadata": {},
   "source": [
    "**Knowledge Challenge:** What is the difference between using `.copy()` and not using `.copy()` in the code above?"
   ]
  },
  {
   "cell_type": "code",
   "execution_count": null,
   "metadata": {},
   "outputs": [],
   "source": [
    "\n",
    "\n"
   ]
  },
  {
   "cell_type": "markdown",
   "metadata": {},
   "source": [
    "On our newly copied data, `df_vix`, let's refactor the `date` column to be a `datetime`. "
   ]
  },
  {
   "cell_type": "code",
   "execution_count": 7,
   "metadata": {},
   "outputs": [],
   "source": [
    "##> df_vix['date'] = pd.to_datetime(df_vix['date'])\n",
    "##> df_vix.dtypes\n",
    "\n",
    "\n",
    "\n"
   ]
  },
  {
   "cell_type": "markdown",
   "metadata": {},
   "source": [
    "To help keep things organized down the road, we'll rename the `close` column and call it `vix`."
   ]
  },
  {
   "cell_type": "code",
   "execution_count": 8,
   "metadata": {},
   "outputs": [],
   "source": [
    "##> df_vix.rename({'close':'vix'}, axis='columns', inplace=True)\n",
    "##> df_vix.head()\n",
    "\n",
    "\n",
    "\n",
    "\n"
   ]
  },
  {
   "cell_type": "markdown",
   "metadata": {},
   "source": [
    "Let's calcuate the daily change in the VIX, and put it in a new column called `vix_chg`."
   ]
  },
  {
   "cell_type": "code",
   "execution_count": 9,
   "metadata": {},
   "outputs": [],
   "source": [
    "##> df_vix['vix_chng'] = df_vix['vix'] - df_vix['vix'].shift(1)\n",
    "##> df_vix.head()\n",
    "\n",
    "\n",
    "\n"
   ]
  },
  {
   "cell_type": "markdown",
   "metadata": {},
   "source": [
    "The `return` column in `df_spy` is expressed as a decimal, so let's change the `vix` and `vix_chng` columns of `df_vix` to also be expressed as decimals."
   ]
  },
  {
   "cell_type": "code",
   "execution_count": 10,
   "metadata": {},
   "outputs": [],
   "source": [
    "##> df_vix['vix'] = df_vix['vix'] / 100\n",
    "##> df_vix['vix_chng'] = df_vix['vix_chng'] / 100\n",
    "##> df_vix.head()\n",
    "\n",
    "\n",
    "\n"
   ]
  },
  {
   "cell_type": "markdown",
   "metadata": {},
   "source": [
    "### Adding `vix` and `vix_chng` to `df_spy`"
   ]
  },
  {
   "cell_type": "markdown",
   "metadata": {},
   "source": [
    "We next add the `vix` and `vix_chng` columns to `df_spy` by joining together the two tables with `pd.merge()`.  We use the `date` columns to match entries of the two tables."
   ]
  },
  {
   "cell_type": "code",
   "execution_count": 11,
   "metadata": {},
   "outputs": [],
   "source": [
    "##> df_spy = pd.merge(df_spy, df_vix, on=['date'])\n",
    "##> df_spy.head()\n",
    "\n",
    "\n",
    "\n"
   ]
  },
  {
   "cell_type": "markdown",
   "metadata": {},
   "source": [
    "### Scatter Plot"
   ]
  },
  {
   "cell_type": "markdown",
   "metadata": {},
   "source": [
    "Now that we have our data wrangled and lined up up, we are now in a position to use the `DataFrame.plot.scatter()` method to plot daily SPY return against daily changes in the VIX."
   ]
  },
  {
   "cell_type": "code",
   "execution_count": 12,
   "metadata": {},
   "outputs": [],
   "source": [
    "##> df_spy.plot.scatter('return', 'vix_chng');\n",
    "\n"
   ]
  },
  {
   "cell_type": "markdown",
   "metadata": {},
   "source": [
    "The following code improves the aesthetics of our splot:"
   ]
  },
  {
   "cell_type": "code",
   "execution_count": 13,
   "metadata": {},
   "outputs": [],
   "source": [
    "##> df_spy.plot.scatter(\n",
    "##>     x = 'return'\n",
    "##>     , y = 'vix_chng'\n",
    "##>     , grid=True   \n",
    "##>     , c='k'\n",
    "##>     , alpha=0.75\n",
    "##>     , s=10  # changing the size of the dots\n",
    "##>     , figsize=(8, 6)\n",
    "##>     , title='SPY Return vs VIX Changes (2014-2018: daily)'\n",
    "##> );\n",
    "\n",
    "\n",
    "\n",
    "\n",
    "\n",
    "\n",
    "\n"
   ]
  }
 ],
 "metadata": {
  "kernelspec": {
   "display_name": "Python 3",
   "language": "python",
   "name": "python3"
  },
  "language_info": {
   "codemirror_mode": {
    "name": "ipython",
    "version": 3
   },
   "file_extension": ".py",
   "mimetype": "text/x-python",
   "name": "python",
   "nbconvert_exporter": "python",
   "pygments_lexer": "ipython3",
   "version": "3.6.8"
  }
 },
 "nbformat": 4,
 "nbformat_minor": 2
}
