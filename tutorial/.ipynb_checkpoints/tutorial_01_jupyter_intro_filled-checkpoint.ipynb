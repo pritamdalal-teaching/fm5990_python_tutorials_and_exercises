{
 "cells": [
  {
   "cell_type": "markdown",
   "metadata": {},
   "source": [
    "# Tutorial 01 - Jupyter Notebook"
   ]
  },
  {
   "cell_type": "markdown",
   "metadata": {},
   "source": [
    "The purpose of this tutorial is to introduce you to the Jupyter Notebook.  This file you are looking at right now is a Jupyter notebook.  \n",
    "\n",
    "The notebook format conveniently allows you to combine words/sentences, computer code, and mathematical notation.  Some people spend a lot of time to creating beautiful and well organized notebooks books that are used for communicating analysis (e.g. *Python Data Science Handbook* is a collection of Jupyter Notebooks).  However, a vast majority of notebooks are used as a convenient interative programming environment.\n",
    "\n",
    "For those of you familiar with R, a Jupyter Notebook is similar in functionality to R markdown notebooks.  In fact, there are lots of notebooks out there now: Matlab, Google, etc.\n",
    "\n",
    "Even though it opens up in your browser, it is not on the internet, it lives on your computer.  Your web browser is simply being used as a piece of software to view and interact with the notebook.\n",
    "\n",
    "At it's heart, a notebook is a series of *cells*.  There are two kinds of cells: 1) code cells that contain (usually) python code; 2) markdown cells which contain markdown or latex."
   ]
  },
  {
   "cell_type": "markdown",
   "metadata": {},
   "source": [
    "## Code Cells"
   ]
  },
  {
   "cell_type": "markdown",
   "metadata": {},
   "source": [
    "This is a code cell - try typing the code that is commented out and the press **ctrl/cmd + enter**."
   ]
  },
  {
   "cell_type": "code",
   "execution_count": 1,
   "metadata": {},
   "outputs": [],
   "source": [
    "##> from IPython.display import Image\n",
    "##> Image(\"../data/not_ethical.png\")\n",
    "\n",
    "from IPython.display import Image\n",
    "Image(\"../data/not_ethical.png\")"
   ]
  },
  {
   "cell_type": "markdown",
   "metadata": {},
   "source": [
    "In addition to printing images of dreamy movie stars, you can do boring stuff in the cells, like quantitative finance data analysis.  Don't worry, we'll get to plenty of that.  Let's next try our hand at a little bit of markdown."
   ]
  },
  {
   "cell_type": "markdown",
   "metadata": {},
   "source": [
    "## Markdown Cells"
   ]
  },
  {
   "cell_type": "code",
   "execution_count": 2,
   "metadata": {},
   "outputs": [],
   "source": [
    "# The cell below is a markdown cell.\n",
    "# Try typing the following latex code in there:\n",
    "# \"This looks hard: $\\frac{1}{\\sqrt{2 \\pt}}$\"\n",
    "# When you are done press ctrl/cmd + enter."
   ]
  },
  {
   "cell_type": "markdown",
   "metadata": {},
   "source": [
    "This looks hard: $\\frac{1}{\\sqrt {2 \\pi}}$"
   ]
  },
  {
   "cell_type": "markdown",
   "metadata": {},
   "source": [
    "## Edit Mode vs Command Mode"
   ]
  },
  {
   "cell_type": "markdown",
   "metadata": {},
   "source": [
    "There are two modes in a notebook: 1) `edit` mode; 2) `command` mode.  \n",
    "\n",
    "In `edit` mode you are *inside* a cell and you can edit the contents of the cell.  \n",
    "\n",
    "In `command` mode, you are outside the cells and you can navigate between them.  \n",
    "\n",
    "When you are in edit mode, there is a green border on the left side of the current cell; when you are in command mode the left border is blue."
   ]
  },
  {
   "cell_type": "markdown",
   "metadata": {},
   "source": [
    "## Keyboard Shortcuts"
   ]
  },
  {
   "cell_type": "markdown",
   "metadata": {},
   "source": [
    "Here are some of my favorite keyboard shortcuts:\n",
    "\n",
    "edit mode: **enter**\n",
    "\n",
    "cmd mode: **esc**\n",
    "\n",
    "insert cell above: **a**\n",
    "\n",
    "insert cell below: **b**\n",
    "\n",
    "code cell: **y**\n",
    "\n",
    "markup cell: **m**\n",
    "\n",
    "execute cell: **shift + enter**\n",
    "\n",
    "navigate up: **k**\n",
    "\n",
    "navigate down: **j**\n",
    "\n",
    "delete cell: **d, d** (press **d** twice)"
   ]
  }
 ],
 "metadata": {
  "kernelspec": {
   "display_name": "Python 3",
   "language": "python",
   "name": "python3"
  },
  "language_info": {
   "codemirror_mode": {
    "name": "ipython",
    "version": 3
   },
   "file_extension": ".py",
   "mimetype": "text/x-python",
   "name": "python",
   "nbconvert_exporter": "python",
   "pygments_lexer": "ipython3",
   "version": "3.6.8"
  }
 },
 "nbformat": 4,
 "nbformat_minor": 2
}
