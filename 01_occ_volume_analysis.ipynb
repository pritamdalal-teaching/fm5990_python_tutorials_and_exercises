{
 "cells": [
  {
   "cell_type": "markdown",
   "metadata": {},
   "source": [
    "### Objective"
   ]
  },
  {
   "cell_type": "markdown",
   "metadata": {},
   "source": [
    "This purpose of this analysis is to produce a volume-by-underlying report from a data file sourced from the OCC.  The data is for the month of August, but it is far more granular than we need, so we will nee to group and summarize (a very common task in data analysis).  \n",
    "\n",
    "Along the way we will discuss basic features of the `pandas` package."
   ]
  },
  {
   "cell_type": "markdown",
   "metadata": {},
   "source": [
    "### Loading Packages"
   ]
  },
  {
   "cell_type": "markdown",
   "metadata": {},
   "source": [
    "The `pandas` package contains much of the data wrangling functionality that we will need.  For those of you who are familiar with R, you can thing of `pandas` as the Python equivalent of R's `tidyverse`."
   ]
  },
  {
   "cell_type": "code",
   "execution_count": 43,
   "metadata": {},
   "outputs": [],
   "source": [
    "##> import pandas as pd\n",
    "\n",
    "import pandas as pd"
   ]
  },
  {
   "cell_type": "markdown",
   "metadata": {},
   "source": [
    "**Note:** In theory you can give *pandas* any alias that you want, but it would be *highly* non-pythonic to call it anything other than **pd**."
   ]
  },
  {
   "cell_type": "markdown",
   "metadata": {},
   "source": [
    "Next we are going to make a couple of changes to the way that the notebook behaves (both of these are largely a matter of preference). This first bit of code changes the maximimun number of rows that will be displayed when we print a `DataFrame`."
   ]
  },
  {
   "cell_type": "code",
   "execution_count": 50,
   "metadata": {},
   "outputs": [],
   "source": [
    "##> pd.options.display.max_rows = 10\n",
    "\n",
    "pd.options.display.max_rows = 6"
   ]
  },
  {
   "cell_type": "markdown",
   "metadata": {},
   "source": [
    "Next, we will make it so that every line of code in a cell that has an out, is printed.  The default behavior is that only the last line of code is printed."
   ]
  },
  {
   "cell_type": "code",
   "execution_count": 39,
   "metadata": {},
   "outputs": [],
   "source": [
    "##> from IPython.core.interactiveshell import InteractiveShell\n",
    "##> InteractiveShell.ast_node_interactivity = \"all\"\n",
    "\n",
    "from IPython.core.interactiveshell import InteractiveShell\n",
    "InteractiveShell.ast_node_interactivity = \"all\""
   ]
  },
  {
   "cell_type": "markdown",
   "metadata": {},
   "source": [
    "### Reading In Data from a CSV"
   ]
  },
  {
   "cell_type": "markdown",
   "metadata": {},
   "source": [
    "The `pandas` library has a `.read_csv()` method that will read in a table of data from a CSV and put it in a `DataFrame`, which is the main data object in `pandas`."
   ]
  },
  {
   "cell_type": "code",
   "execution_count": 89,
   "metadata": {},
   "outputs": [],
   "source": [
    "##> df_occ = pd.read_csv('../option_data/occ_option_volume_201808.csv')\n",
    "\n",
    "df_occ = pd.read_csv('../option_data/occ_option_volume_201808.csv')"
   ]
  },
  {
   "cell_type": "markdown",
   "metadata": {},
   "source": [
    "### Initial Exploration of the Data"
   ]
  },
  {
   "cell_type": "markdown",
   "metadata": {},
   "source": [
    "Our data is a monthly option volume report from the OCC.  The data is broken down by trade-date, underlying, account type, puts/calls, and exchange. We can print a the contents of the `DataFrame` by simply typing it's name and then running that code."
   ]
  },
  {
   "cell_type": "code",
   "execution_count": 51,
   "metadata": {},
   "outputs": [
    {
     "data": {
      "text/html": [
       "<div>\n",
       "<style scoped>\n",
       "    .dataframe tbody tr th:only-of-type {\n",
       "        vertical-align: middle;\n",
       "    }\n",
       "\n",
       "    .dataframe tbody tr th {\n",
       "        vertical-align: top;\n",
       "    }\n",
       "\n",
       "    .dataframe thead th {\n",
       "        text-align: right;\n",
       "    }\n",
       "</style>\n",
       "<table border=\"1\" class=\"dataframe\">\n",
       "  <thead>\n",
       "    <tr style=\"text-align: right;\">\n",
       "      <th></th>\n",
       "      <th>quantity</th>\n",
       "      <th>underlying</th>\n",
       "      <th>symbol</th>\n",
       "      <th>actype</th>\n",
       "      <th>porc</th>\n",
       "      <th>exchange</th>\n",
       "      <th>actdate</th>\n",
       "    </tr>\n",
       "  </thead>\n",
       "  <tbody>\n",
       "    <tr>\n",
       "      <th>0</th>\n",
       "      <td>5850</td>\n",
       "      <td>ABX</td>\n",
       "      <td>1ABX</td>\n",
       "      <td>C</td>\n",
       "      <td>C</td>\n",
       "      <td>AMEX</td>\n",
       "      <td>08/02/2018</td>\n",
       "    </tr>\n",
       "    <tr>\n",
       "      <th>1</th>\n",
       "      <td>3050</td>\n",
       "      <td>ABX</td>\n",
       "      <td>1ABX</td>\n",
       "      <td>C</td>\n",
       "      <td>C</td>\n",
       "      <td>AMEX</td>\n",
       "      <td>08/16/2018</td>\n",
       "    </tr>\n",
       "    <tr>\n",
       "      <th>2</th>\n",
       "      <td>3050</td>\n",
       "      <td>ABX</td>\n",
       "      <td>1ABX</td>\n",
       "      <td>F</td>\n",
       "      <td>C</td>\n",
       "      <td>AMEX</td>\n",
       "      <td>08/16/2018</td>\n",
       "    </tr>\n",
       "    <tr>\n",
       "      <th>...</th>\n",
       "      <td>...</td>\n",
       "      <td>...</td>\n",
       "      <td>...</td>\n",
       "      <td>...</td>\n",
       "      <td>...</td>\n",
       "      <td>...</td>\n",
       "      <td>...</td>\n",
       "    </tr>\n",
       "    <tr>\n",
       "      <th>1870438</th>\n",
       "      <td>1</td>\n",
       "      <td>ZYNE</td>\n",
       "      <td>ZYNE</td>\n",
       "      <td>M</td>\n",
       "      <td>P</td>\n",
       "      <td>EDGX</td>\n",
       "      <td>08/20/2018</td>\n",
       "    </tr>\n",
       "    <tr>\n",
       "      <th>1870439</th>\n",
       "      <td>25</td>\n",
       "      <td>ZYNE</td>\n",
       "      <td>ZYNE</td>\n",
       "      <td>C</td>\n",
       "      <td>C</td>\n",
       "      <td>MCRY</td>\n",
       "      <td>08/30/2018</td>\n",
       "    </tr>\n",
       "    <tr>\n",
       "      <th>1870440</th>\n",
       "      <td>25</td>\n",
       "      <td>ZYNE</td>\n",
       "      <td>ZYNE</td>\n",
       "      <td>M</td>\n",
       "      <td>C</td>\n",
       "      <td>MCRY</td>\n",
       "      <td>08/30/2018</td>\n",
       "    </tr>\n",
       "  </tbody>\n",
       "</table>\n",
       "<p>1870441 rows × 7 columns</p>\n",
       "</div>"
      ],
      "text/plain": [
       "         quantity underlying symbol actype porc exchange     actdate\n",
       "0            5850        ABX   1ABX      C    C     AMEX  08/02/2018\n",
       "1            3050        ABX   1ABX      C    C     AMEX  08/16/2018\n",
       "2            3050        ABX   1ABX      F    C     AMEX  08/16/2018\n",
       "...           ...        ...    ...    ...  ...      ...         ...\n",
       "1870438         1       ZYNE   ZYNE      M    P     EDGX  08/20/2018\n",
       "1870439        25       ZYNE   ZYNE      C    C     MCRY  08/30/2018\n",
       "1870440        25       ZYNE   ZYNE      M    C     MCRY  08/30/2018\n",
       "\n",
       "[1870441 rows x 7 columns]"
      ]
     },
     "execution_count": 51,
     "metadata": {},
     "output_type": "execute_result"
    }
   ],
   "source": [
    "# df_occ\n",
    "\n",
    "df_occ"
   ]
  },
  {
   "cell_type": "markdown",
   "metadata": {},
   "source": [
    "Notice at the very bottom that the total number of rows and columns has been printed.  We can also get this information from the `.shape` property."
   ]
  },
  {
   "cell_type": "code",
   "execution_count": 35,
   "metadata": {},
   "outputs": [
    {
     "data": {
      "text/plain": [
       "(1870441, 7)"
      ]
     },
     "execution_count": 35,
     "metadata": {},
     "output_type": "execute_result"
    }
   ],
   "source": [
    "##> df_occ.shape\n",
    "\n",
    "df_occ.shape"
   ]
  },
  {
   "cell_type": "markdown",
   "metadata": {},
   "source": [
    "The `type()` function is also useful for exploring objects."
   ]
  },
  {
   "cell_type": "code",
   "execution_count": 40,
   "metadata": {},
   "outputs": [
    {
     "data": {
      "text/plain": [
       "list"
      ]
     },
     "execution_count": 40,
     "metadata": {},
     "output_type": "execute_result"
    },
    {
     "data": {
      "text/plain": [
       "pandas.core.frame.DataFrame"
      ]
     },
     "execution_count": 40,
     "metadata": {},
     "output_type": "execute_result"
    }
   ],
   "source": [
    "# let's first create a list object to test on.\n",
    "##> my_list = [1, \"twelve\", False]\n",
    "\n",
    "# then let's check the type of my_list as well as df_occ\n",
    "type(my_list)\n",
    "type(df_occ)"
   ]
  },
  {
   "cell_type": "markdown",
   "metadata": {},
   "source": [
    "We can check the data-types of each of the columns with the `.dtypes` property."
   ]
  },
  {
   "cell_type": "code",
   "execution_count": 46,
   "metadata": {},
   "outputs": [
    {
     "data": {
      "text/plain": [
       "quantity       int64\n",
       "underlying    object\n",
       "symbol        object\n",
       "actype        object\n",
       "porc          object\n",
       "exchange      object\n",
       "actdate       object\n",
       "dtype: object"
      ]
     },
     "execution_count": 46,
     "metadata": {},
     "output_type": "execute_result"
    }
   ],
   "source": [
    "##> df_occ.dtypes\n",
    "\n",
    "df_occ.dtypes"
   ]
  },
  {
   "cell_type": "markdown",
   "metadata": {},
   "source": [
    "Notice that all the string colums are given a data type of `object`.  Also notice that the `actdate` column was read in as a string, rather than a date, which we will fix later in this tutorial."
   ]
  },
  {
   "cell_type": "markdown",
   "metadata": {},
   "source": [
    "### Accessing Columns"
   ]
  },
  {
   "cell_type": "markdown",
   "metadata": {},
   "source": [
    "We can access the columns of a dataframe by use of th `[` notation as well as the `.` notation.  Let's use both of these approaches to isolate the `underlying` column of `df_occ`."
   ]
  },
  {
   "cell_type": "code",
   "execution_count": 52,
   "metadata": {},
   "outputs": [
    {
     "data": {
      "text/plain": [
       "0           ABX\n",
       "1           ABX\n",
       "2           ABX\n",
       "           ... \n",
       "1870438    ZYNE\n",
       "1870439    ZYNE\n",
       "1870440    ZYNE\n",
       "Name: underlying, Length: 1870441, dtype: object"
      ]
     },
     "execution_count": 52,
     "metadata": {},
     "output_type": "execute_result"
    },
    {
     "data": {
      "text/plain": [
       "0           ABX\n",
       "1           ABX\n",
       "2           ABX\n",
       "           ... \n",
       "1870438    ZYNE\n",
       "1870439    ZYNE\n",
       "1870440    ZYNE\n",
       "Name: underlying, Length: 1870441, dtype: object"
      ]
     },
     "execution_count": 52,
     "metadata": {},
     "output_type": "execute_result"
    }
   ],
   "source": [
    "# both of these are equivalent\n",
    "##> df_occ['underlying']\n",
    "##> df_occ.underlying\n",
    "\n",
    "df_occ['underlying']\n",
    "df_occ.underlying"
   ]
  },
  {
   "cell_type": "markdown",
   "metadata": {},
   "source": [
    "We can use the the `type()` function to see that a column of a `DataFrame` is a `Series`, which is a different kind of `pandas` object."
   ]
  },
  {
   "cell_type": "code",
   "execution_count": 53,
   "metadata": {},
   "outputs": [
    {
     "data": {
      "text/plain": [
       "pandas.core.series.Series"
      ]
     },
     "execution_count": 53,
     "metadata": {},
     "output_type": "execute_result"
    },
    {
     "data": {
      "text/plain": [
       "pandas.core.series.Series"
      ]
     },
     "execution_count": 53,
     "metadata": {},
     "output_type": "execute_result"
    }
   ],
   "source": [
    "type(df_occ['underlying'])\n",
    "type(df_occ.underlying)"
   ]
  },
  {
   "cell_type": "markdown",
   "metadata": {},
   "source": [
    "We won't get into the weeds about this point too much, but it is worth noting that a `DataFrame` is a bunch of `Series` glued together.  For those of you familiar with R, this is similar the fact that a `data.frame` is a `list` of vectors, all of the same length."
   ]
  },
  {
   "cell_type": "markdown",
   "metadata": {},
   "source": [
    "### Refactoring the Date Column"
   ]
  },
  {
   "cell_type": "markdown",
   "metadata": {},
   "source": [
    "Recall that we saw that the `df_occ.actdate` is infact an `object` data type, rather than a date."
   ]
  },
  {
   "cell_type": "code",
   "execution_count": 92,
   "metadata": {},
   "outputs": [
    {
     "data": {
      "text/plain": [
       "dtype('int64')"
      ]
     },
     "execution_count": 92,
     "metadata": {},
     "output_type": "execute_result"
    },
    {
     "data": {
      "text/plain": [
       "dtype('O')"
      ]
     },
     "execution_count": 92,
     "metadata": {},
     "output_type": "execute_result"
    }
   ],
   "source": [
    "# let's compare the dtype of the df_occ.quantity and df_occ.actdate\n",
    "##> df_occ.quantity.dtype\n",
    "##> df_occ.actdate.dtype\n",
    "\n",
    "df_occ.quantity.dtype\n",
    "df_occ.actdate.dtype"
   ]
  },
  {
   "cell_type": "markdown",
   "metadata": {},
   "source": [
    "We can use the `pandas.to_datetime()` function for the purposes of this refactoring."
   ]
  },
  {
   "cell_type": "code",
   "execution_count": 90,
   "metadata": {},
   "outputs": [
    {
     "data": {
      "text/plain": [
       "0         2018-08-02\n",
       "1         2018-08-16\n",
       "2         2018-08-16\n",
       "             ...    \n",
       "1870438   2018-08-20\n",
       "1870439   2018-08-30\n",
       "1870440   2018-08-30\n",
       "Name: actdate, Length: 1870441, dtype: datetime64[ns]"
      ]
     },
     "execution_count": 90,
     "metadata": {},
     "output_type": "execute_result"
    }
   ],
   "source": [
    "##> spd.to_datetime(df_occ.actdate, format='%m/%d/%Y')\n",
    "\n",
    "pd.to_datetime(df_occ.actdate, format='%m/%d/%Y')"
   ]
  },
  {
   "cell_type": "markdown",
   "metadata": {},
   "source": [
    "Note that this code above doesn't actually change `df_occ.actdate` but rather creates a new `Series` and prints it to the output.  We can test this by checking the `dtype` property of the column again."
   ]
  },
  {
   "cell_type": "code",
   "execution_count": 93,
   "metadata": {},
   "outputs": [
    {
     "data": {
      "text/plain": [
       "dtype('O')"
      ]
     },
     "execution_count": 93,
     "metadata": {},
     "output_type": "execute_result"
    }
   ],
   "source": [
    "##> df_occ.actdate.dtype\n",
    "\n",
    "df_occ.actdate.dtype"
   ]
  },
  {
   "cell_type": "markdown",
   "metadata": {},
   "source": [
    "In order to actually affect the change we are looking for, we need to reassign to `df_occ.actdate`."
   ]
  },
  {
   "cell_type": "code",
   "execution_count": 98,
   "metadata": {},
   "outputs": [],
   "source": [
    "##> df_occ.actdate = pd.to_datetime(df_occ.actdate, format = '%m/%d/%Y')\n",
    "\n",
    "df_occ.actdate = pd.to_datetime(df_occ.actdate, format = '%m/%d/%Y')"
   ]
  },
  {
   "cell_type": "markdown",
   "metadata": {},
   "source": [
    "Now the refactoring to  date has actually occured."
   ]
  },
  {
   "cell_type": "code",
   "execution_count": 100,
   "metadata": {},
   "outputs": [
    {
     "data": {
      "text/plain": [
       "quantity               int64\n",
       "underlying            object\n",
       "symbol                object\n",
       "                   ...      \n",
       "porc                  object\n",
       "exchange              object\n",
       "actdate       datetime64[ns]\n",
       "Length: 7, dtype: object"
      ]
     },
     "execution_count": 100,
     "metadata": {},
     "output_type": "execute_result"
    }
   ],
   "source": [
    "##> df_occ.dtypes\n",
    "\n",
    "df_occ.dtypes"
   ]
  },
  {
   "cell_type": "markdown",
   "metadata": {},
   "source": [
    "### Looking at Unique Values"
   ]
  },
  {
   "cell_type": "markdown",
   "metadata": {},
   "source": [
    "When you first encounter a data set, it is useful to explore the unique values in some of the columns to try to get a feel for what is in the data set.  Let's look at the `underlying` column and the `actdate` column."
   ]
  },
  {
   "cell_type": "code",
   "execution_count": 103,
   "metadata": {},
   "outputs": [
    {
     "data": {
      "text/plain": [
       "array(['2018-08-02T00:00:00.000000000', '2018-08-16T00:00:00.000000000',\n",
       "       '2018-08-13T00:00:00.000000000', '2018-08-09T00:00:00.000000000',\n",
       "       '2018-08-10T00:00:00.000000000', '2018-08-22T00:00:00.000000000',\n",
       "       '2018-08-06T00:00:00.000000000', '2018-08-15T00:00:00.000000000',\n",
       "       '2018-08-23T00:00:00.000000000', '2018-08-24T00:00:00.000000000',\n",
       "       '2018-08-07T00:00:00.000000000', '2018-08-21T00:00:00.000000000',\n",
       "       '2018-08-14T00:00:00.000000000', '2018-08-01T00:00:00.000000000',\n",
       "       '2018-08-03T00:00:00.000000000', '2018-08-17T00:00:00.000000000',\n",
       "       '2018-08-30T00:00:00.000000000', '2018-08-31T00:00:00.000000000',\n",
       "       '2018-08-27T00:00:00.000000000', '2018-08-20T00:00:00.000000000',\n",
       "       '2018-08-08T00:00:00.000000000', '2018-08-28T00:00:00.000000000',\n",
       "       '2018-08-29T00:00:00.000000000'], dtype='datetime64[ns]')"
      ]
     },
     "execution_count": 103,
     "metadata": {},
     "output_type": "execute_result"
    }
   ],
   "source": [
    "##> df_occ.actdate.unique()\n",
    "\n",
    "df_occ.actdate.unique()"
   ]
  },
  {
   "cell_type": "markdown",
   "metadata": {},
   "source": [
    "It looks like the date are all in August of 2018, but it's hare to be sure from just visual inspection, because the priting is messy.  Let's use the `min` and `max` methods just to be sure."
   ]
  },
  {
   "cell_type": "code",
   "execution_count": 115,
   "metadata": {},
   "outputs": [
    {
     "data": {
      "text/plain": [
       "numpy.datetime64('2018-08-01T00:00:00.000000000')"
      ]
     },
     "execution_count": 115,
     "metadata": {},
     "output_type": "execute_result"
    },
    {
     "data": {
      "text/plain": [
       "numpy.datetime64('2018-08-31T00:00:00.000000000')"
      ]
     },
     "execution_count": 115,
     "metadata": {},
     "output_type": "execute_result"
    }
   ],
   "source": [
    "##> df_occ.actdate.unique().min()\n",
    "##> df_occ.actdate.unique().max()\n",
    "\n",
    "df_occ.actdate.unique().min()\n",
    "df_occ.actdate.unique().max()"
   ]
  },
  {
   "cell_type": "markdown",
   "metadata": {},
   "source": [
    "We next look at the unique values of `underlying` - there are a lot of them so they are not all printed.  Notice that the `.unique()` method returns an `array` object.  We can check it's size by using the `.size` property."
   ]
  },
  {
   "cell_type": "code",
   "execution_count": 116,
   "metadata": {},
   "outputs": [
    {
     "data": {
      "text/plain": [
       "array(['ABX', 'AGI', 'ALB', ..., 'ZUMZ', 'ZUO', 'ZYNE'], dtype=object)"
      ]
     },
     "execution_count": 116,
     "metadata": {},
     "output_type": "execute_result"
    },
    {
     "data": {
      "text/plain": [
       "4243"
      ]
     },
     "execution_count": 116,
     "metadata": {},
     "output_type": "execute_result"
    }
   ],
   "source": [
    "##> df_occ.underlying.unique()\n",
    "##> df_occ.underlying.unique().size\n",
    "\n",
    "df_occ.underlying.unique()\n",
    "df_occ.underlying.unique().size"
   ]
  },
  {
   "cell_type": "markdown",
   "metadata": {},
   "source": [
    "**Challenge:** How many individual dates are represented in the `df_occ`?"
   ]
  },
  {
   "cell_type": "markdown",
   "metadata": {},
   "source": [
    "### Grouping And Summarizing"
   ]
  },
  {
   "cell_type": "markdown",
   "metadata": {},
   "source": [
    "Our ultimate objective is to know the total volume, for each underlying, in the month of August 2018.  The data in it's current form is far more granular than that."
   ]
  },
  {
   "cell_type": "code",
   "execution_count": 117,
   "metadata": {},
   "outputs": [
    {
     "data": {
      "text/html": [
       "<div>\n",
       "<style scoped>\n",
       "    .dataframe tbody tr th:only-of-type {\n",
       "        vertical-align: middle;\n",
       "    }\n",
       "\n",
       "    .dataframe tbody tr th {\n",
       "        vertical-align: top;\n",
       "    }\n",
       "\n",
       "    .dataframe thead th {\n",
       "        text-align: right;\n",
       "    }\n",
       "</style>\n",
       "<table border=\"1\" class=\"dataframe\">\n",
       "  <thead>\n",
       "    <tr style=\"text-align: right;\">\n",
       "      <th></th>\n",
       "      <th>quantity</th>\n",
       "      <th>underlying</th>\n",
       "      <th>symbol</th>\n",
       "      <th>actype</th>\n",
       "      <th>porc</th>\n",
       "      <th>exchange</th>\n",
       "      <th>actdate</th>\n",
       "    </tr>\n",
       "  </thead>\n",
       "  <tbody>\n",
       "    <tr>\n",
       "      <th>0</th>\n",
       "      <td>5850</td>\n",
       "      <td>ABX</td>\n",
       "      <td>1ABX</td>\n",
       "      <td>C</td>\n",
       "      <td>C</td>\n",
       "      <td>AMEX</td>\n",
       "      <td>2018-08-02</td>\n",
       "    </tr>\n",
       "    <tr>\n",
       "      <th>1</th>\n",
       "      <td>3050</td>\n",
       "      <td>ABX</td>\n",
       "      <td>1ABX</td>\n",
       "      <td>C</td>\n",
       "      <td>C</td>\n",
       "      <td>AMEX</td>\n",
       "      <td>2018-08-16</td>\n",
       "    </tr>\n",
       "    <tr>\n",
       "      <th>2</th>\n",
       "      <td>3050</td>\n",
       "      <td>ABX</td>\n",
       "      <td>1ABX</td>\n",
       "      <td>F</td>\n",
       "      <td>C</td>\n",
       "      <td>AMEX</td>\n",
       "      <td>2018-08-16</td>\n",
       "    </tr>\n",
       "    <tr>\n",
       "      <th>...</th>\n",
       "      <td>...</td>\n",
       "      <td>...</td>\n",
       "      <td>...</td>\n",
       "      <td>...</td>\n",
       "      <td>...</td>\n",
       "      <td>...</td>\n",
       "      <td>...</td>\n",
       "    </tr>\n",
       "    <tr>\n",
       "      <th>1870438</th>\n",
       "      <td>1</td>\n",
       "      <td>ZYNE</td>\n",
       "      <td>ZYNE</td>\n",
       "      <td>M</td>\n",
       "      <td>P</td>\n",
       "      <td>EDGX</td>\n",
       "      <td>2018-08-20</td>\n",
       "    </tr>\n",
       "    <tr>\n",
       "      <th>1870439</th>\n",
       "      <td>25</td>\n",
       "      <td>ZYNE</td>\n",
       "      <td>ZYNE</td>\n",
       "      <td>C</td>\n",
       "      <td>C</td>\n",
       "      <td>MCRY</td>\n",
       "      <td>2018-08-30</td>\n",
       "    </tr>\n",
       "    <tr>\n",
       "      <th>1870440</th>\n",
       "      <td>25</td>\n",
       "      <td>ZYNE</td>\n",
       "      <td>ZYNE</td>\n",
       "      <td>M</td>\n",
       "      <td>C</td>\n",
       "      <td>MCRY</td>\n",
       "      <td>2018-08-30</td>\n",
       "    </tr>\n",
       "  </tbody>\n",
       "</table>\n",
       "<p>1870441 rows × 7 columns</p>\n",
       "</div>"
      ],
      "text/plain": [
       "         quantity underlying symbol actype porc exchange    actdate\n",
       "0            5850        ABX   1ABX      C    C     AMEX 2018-08-02\n",
       "1            3050        ABX   1ABX      C    C     AMEX 2018-08-16\n",
       "2            3050        ABX   1ABX      F    C     AMEX 2018-08-16\n",
       "...           ...        ...    ...    ...  ...      ...        ...\n",
       "1870438         1       ZYNE   ZYNE      M    P     EDGX 2018-08-20\n",
       "1870439        25       ZYNE   ZYNE      C    C     MCRY 2018-08-30\n",
       "1870440        25       ZYNE   ZYNE      M    C     MCRY 2018-08-30\n",
       "\n",
       "[1870441 rows x 7 columns]"
      ]
     },
     "execution_count": 117,
     "metadata": {},
     "output_type": "execute_result"
    }
   ],
   "source": [
    "df_occ"
   ]
  },
  {
   "cell_type": "markdown",
   "metadata": {},
   "source": [
    "What we need to do is sum up the total quantity for each underlying.  We can do this with the `groupby()` method couple with the `sum()` method."
   ]
  },
  {
   "cell_type": "code",
   "execution_count": 121,
   "metadata": {},
   "outputs": [
    {
     "data": {
      "text/plain": [
       "underlying\n",
       "A        166644\n",
       "AA       612596\n",
       "AABA    2914502\n",
       "         ...   \n",
       "ZUMZ       9882\n",
       "ZUO      168444\n",
       "ZYNE      36008\n",
       "Name: quantity, Length: 4243, dtype: int64"
      ]
     },
     "execution_count": 121,
     "metadata": {},
     "output_type": "execute_result"
    }
   ],
   "source": [
    "df_occ.groupby('underlying')['quantity'].sum()"
   ]
  },
  {
   "cell_type": "markdown",
   "metadata": {},
   "source": [
    "As you can see, this is actually a `Series` object, not a `DataFrame`. (Which is different than how `summarize()` works in `dplyr`.)"
   ]
  },
  {
   "cell_type": "code",
   "execution_count": null,
   "metadata": {},
   "outputs": [],
   "source": []
  },
  {
   "cell_type": "code",
   "execution_count": null,
   "metadata": {},
   "outputs": [],
   "source": []
  }
 ],
 "metadata": {
  "kernelspec": {
   "display_name": "Python 3",
   "language": "python",
   "name": "python3"
  },
  "language_info": {
   "codemirror_mode": {
    "name": "ipython",
    "version": 3
   },
   "file_extension": ".py",
   "mimetype": "text/x-python",
   "name": "python",
   "nbconvert_exporter": "python",
   "pygments_lexer": "ipython3",
   "version": "3.6.5"
  }
 },
 "nbformat": 4,
 "nbformat_minor": 2
}
