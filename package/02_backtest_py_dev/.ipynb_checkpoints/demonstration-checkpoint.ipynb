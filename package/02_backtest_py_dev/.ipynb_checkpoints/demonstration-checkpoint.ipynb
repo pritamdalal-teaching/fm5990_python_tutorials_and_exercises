{
 "cells": [
  {
   "cell_type": "markdown",
   "metadata": {},
   "source": [
    "# Demonstrating `backtest_py`"
   ]
  },
  {
   "cell_type": "markdown",
   "metadata": {},
   "source": [
    "The package `backtest_py` consists of functions that grab data from my options data base.\n",
    "\n",
    "There is are a variety of ways that we can get this functionality into this notebook."
   ]
  },
  {
   "cell_type": "markdown",
   "metadata": {},
   "source": [
    "### Copy/Paste"
   ]
  },
  {
   "cell_type": "markdown",
   "metadata": {},
   "source": [
    "Since we can define functions in a code cell, we could simply copy the contents of `option_func.py` into a cell."
   ]
  },
  {
   "cell_type": "code",
   "execution_count": null,
   "metadata": {},
   "outputs": [],
   "source": [
    "##> copy paste here"
   ]
  },
  {
   "cell_type": "code",
   "execution_count": null,
   "metadata": {},
   "outputs": [],
   "source": [
    "df_spy = option_underlying('2019-03-22', 'SPY')\n",
    "df_spy.head()"
   ]
  },
  {
   "cell_type": "code",
   "execution_count": null,
   "metadata": {},
   "outputs": [],
   "source": [
    "df_spy.shape"
   ]
  },
  {
   "cell_type": "markdown",
   "metadata": {},
   "source": [
    "### Run `option_func.py`"
   ]
  },
  {
   "cell_type": "code",
   "execution_count": 1,
   "metadata": {},
   "outputs": [],
   "source": [
    "%run backtest_py/option_func.py"
   ]
  },
  {
   "cell_type": "code",
   "execution_count": 2,
   "metadata": {},
   "outputs": [
    {
     "data": {
      "text/html": [
       "<div>\n",
       "<style scoped>\n",
       "    .dataframe tbody tr th:only-of-type {\n",
       "        vertical-align: middle;\n",
       "    }\n",
       "\n",
       "    .dataframe tbody tr th {\n",
       "        vertical-align: top;\n",
       "    }\n",
       "\n",
       "    .dataframe thead th {\n",
       "        text-align: right;\n",
       "    }\n",
       "</style>\n",
       "<table border=\"1\" class=\"dataframe\">\n",
       "  <thead>\n",
       "    <tr style=\"text-align: right;\">\n",
       "      <th></th>\n",
       "      <th>underlying_symbol</th>\n",
       "      <th>underlying_price</th>\n",
       "      <th>type</th>\n",
       "      <th>expiration</th>\n",
       "      <th>data_date</th>\n",
       "      <th>strike</th>\n",
       "      <th>bid</th>\n",
       "      <th>ask</th>\n",
       "      <th>mid</th>\n",
       "      <th>volume</th>\n",
       "      <th>open_interest</th>\n",
       "      <th>t1_open_interest</th>\n",
       "      <th>iv_mean</th>\n",
       "    </tr>\n",
       "  </thead>\n",
       "  <tbody>\n",
       "    <tr>\n",
       "      <th>0</th>\n",
       "      <td>SPY</td>\n",
       "      <td>279.34</td>\n",
       "      <td>call</td>\n",
       "      <td>2019-03-22</td>\n",
       "      <td>2019-03-22</td>\n",
       "      <td>215.0</td>\n",
       "      <td>63.13</td>\n",
       "      <td>66.17</td>\n",
       "      <td>64.650</td>\n",
       "      <td>0</td>\n",
       "      <td>0</td>\n",
       "      <td>0</td>\n",
       "      <td>0.3</td>\n",
       "    </tr>\n",
       "    <tr>\n",
       "      <th>1</th>\n",
       "      <td>SPY</td>\n",
       "      <td>279.34</td>\n",
       "      <td>put</td>\n",
       "      <td>2019-03-22</td>\n",
       "      <td>2019-03-22</td>\n",
       "      <td>215.0</td>\n",
       "      <td>0.00</td>\n",
       "      <td>0.01</td>\n",
       "      <td>0.005</td>\n",
       "      <td>0</td>\n",
       "      <td>0</td>\n",
       "      <td>0</td>\n",
       "      <td>0.3</td>\n",
       "    </tr>\n",
       "    <tr>\n",
       "      <th>2</th>\n",
       "      <td>SPY</td>\n",
       "      <td>279.34</td>\n",
       "      <td>call</td>\n",
       "      <td>2019-03-22</td>\n",
       "      <td>2019-03-22</td>\n",
       "      <td>220.0</td>\n",
       "      <td>58.13</td>\n",
       "      <td>61.17</td>\n",
       "      <td>59.650</td>\n",
       "      <td>0</td>\n",
       "      <td>0</td>\n",
       "      <td>0</td>\n",
       "      <td>0.3</td>\n",
       "    </tr>\n",
       "    <tr>\n",
       "      <th>3</th>\n",
       "      <td>SPY</td>\n",
       "      <td>279.34</td>\n",
       "      <td>put</td>\n",
       "      <td>2019-03-22</td>\n",
       "      <td>2019-03-22</td>\n",
       "      <td>220.0</td>\n",
       "      <td>0.00</td>\n",
       "      <td>0.01</td>\n",
       "      <td>0.005</td>\n",
       "      <td>0</td>\n",
       "      <td>0</td>\n",
       "      <td>0</td>\n",
       "      <td>0.3</td>\n",
       "    </tr>\n",
       "    <tr>\n",
       "      <th>4</th>\n",
       "      <td>SPY</td>\n",
       "      <td>279.34</td>\n",
       "      <td>call</td>\n",
       "      <td>2019-03-22</td>\n",
       "      <td>2019-03-22</td>\n",
       "      <td>225.0</td>\n",
       "      <td>53.13</td>\n",
       "      <td>56.17</td>\n",
       "      <td>54.650</td>\n",
       "      <td>0</td>\n",
       "      <td>0</td>\n",
       "      <td>0</td>\n",
       "      <td>0.3</td>\n",
       "    </tr>\n",
       "  </tbody>\n",
       "</table>\n",
       "</div>"
      ],
      "text/plain": [
       "  underlying_symbol  underlying_price  type  expiration   data_date  strike  \\\n",
       "0               SPY            279.34  call  2019-03-22  2019-03-22   215.0   \n",
       "1               SPY            279.34   put  2019-03-22  2019-03-22   215.0   \n",
       "2               SPY            279.34  call  2019-03-22  2019-03-22   220.0   \n",
       "3               SPY            279.34   put  2019-03-22  2019-03-22   220.0   \n",
       "4               SPY            279.34  call  2019-03-22  2019-03-22   225.0   \n",
       "\n",
       "     bid    ask     mid  volume  open_interest  t1_open_interest  iv_mean  \n",
       "0  63.13  66.17  64.650       0              0                 0      0.3  \n",
       "1   0.00   0.01   0.005       0              0                 0      0.3  \n",
       "2  58.13  61.17  59.650       0              0                 0      0.3  \n",
       "3   0.00   0.01   0.005       0              0                 0      0.3  \n",
       "4  53.13  56.17  54.650       0              0                 0      0.3  "
      ]
     },
     "execution_count": 2,
     "metadata": {},
     "output_type": "execute_result"
    }
   ],
   "source": [
    "df_spy = option_underlying('2019-03-22', 'SPY')\n",
    "df_spy.head()"
   ]
  },
  {
   "cell_type": "code",
   "execution_count": 3,
   "metadata": {},
   "outputs": [
    {
     "data": {
      "text/plain": [
       "(6584, 13)"
      ]
     },
     "execution_count": 3,
     "metadata": {},
     "output_type": "execute_result"
    }
   ],
   "source": [
    "df_spy.shape"
   ]
  },
  {
   "cell_type": "code",
   "execution_count": null,
   "metadata": {},
   "outputs": [],
   "source": []
  }
 ],
 "metadata": {
  "kernelspec": {
   "display_name": "Python 3",
   "language": "python",
   "name": "python3"
  },
  "language_info": {
   "codemirror_mode": {
    "name": "ipython",
    "version": 3
   },
   "file_extension": ".py",
   "mimetype": "text/x-python",
   "name": "python",
   "nbconvert_exporter": "python",
   "pygments_lexer": "ipython3",
   "version": "3.6.8"
  }
 },
 "nbformat": 4,
 "nbformat_minor": 2
}
