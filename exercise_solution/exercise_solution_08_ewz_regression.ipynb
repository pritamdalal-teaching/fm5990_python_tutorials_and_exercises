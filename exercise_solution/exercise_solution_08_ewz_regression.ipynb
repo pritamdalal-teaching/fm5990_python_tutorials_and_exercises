{
 "cells": [
  {
   "cell_type": "markdown",
   "metadata": {},
   "source": [
    "# Exercise 8 - IWM Regression"
   ]
  },
  {
   "cell_type": "markdown",
   "metadata": {},
   "source": [
    "The purpose of this exercise is to walk you through a linear regression.  In particular, you will regress weekly EWZ returns against weekly changes in EWZ implied volatility.  This is very similar to the first regression in Tutorial 19.  The idea is for you to work through a similar regression, but with different data."
   ]
  },
  {
   "cell_type": "markdown",
   "metadata": {},
   "source": [
    "#### 1) Import the packages that you think you will need."
   ]
  },
  {
   "cell_type": "code",
   "execution_count": 1,
   "metadata": {},
   "outputs": [],
   "source": [
    "%matplotlib inline\n",
    "import matplotlib.pyplot as plt\n",
    "import seaborn as sns; sns.set()\n",
    "import pandas as pd\n",
    "import numpy as np\n",
    "import sklearn"
   ]
  },
  {
   "cell_type": "markdown",
   "metadata": {},
   "source": [
    "#### 2) Read in the data from `../data/ewz_2014_2018.csv` and assign it to a variable `df_ewz`."
   ]
  },
  {
   "cell_type": "code",
   "execution_count": 3,
   "metadata": {},
   "outputs": [
    {
     "data": {
      "text/html": [
       "<div>\n",
       "<style scoped>\n",
       "    .dataframe tbody tr th:only-of-type {\n",
       "        vertical-align: middle;\n",
       "    }\n",
       "\n",
       "    .dataframe tbody tr th {\n",
       "        vertical-align: top;\n",
       "    }\n",
       "\n",
       "    .dataframe thead th {\n",
       "        text-align: right;\n",
       "    }\n",
       "</style>\n",
       "<table border=\"1\" class=\"dataframe\">\n",
       "  <thead>\n",
       "    <tr style=\"text-align: right;\">\n",
       "      <th></th>\n",
       "      <th>underlying</th>\n",
       "      <th>start_date</th>\n",
       "      <th>end_date</th>\n",
       "      <th>realized_vol</th>\n",
       "      <th>ret</th>\n",
       "      <th>start_iv</th>\n",
       "    </tr>\n",
       "  </thead>\n",
       "  <tbody>\n",
       "    <tr>\n",
       "      <th>0</th>\n",
       "      <td>EWZ</td>\n",
       "      <td>2014-01-03</td>\n",
       "      <td>2014-01-10</td>\n",
       "      <td>0.196240</td>\n",
       "      <td>-0.017186</td>\n",
       "      <td>0.236235</td>\n",
       "    </tr>\n",
       "    <tr>\n",
       "      <th>1</th>\n",
       "      <td>EWZ</td>\n",
       "      <td>2014-01-10</td>\n",
       "      <td>2014-01-17</td>\n",
       "      <td>0.121560</td>\n",
       "      <td>-0.011308</td>\n",
       "      <td>0.230431</td>\n",
       "    </tr>\n",
       "    <tr>\n",
       "      <th>2</th>\n",
       "      <td>EWZ</td>\n",
       "      <td>2014-01-17</td>\n",
       "      <td>2014-01-24</td>\n",
       "      <td>0.298007</td>\n",
       "      <td>-0.054528</td>\n",
       "      <td>0.214747</td>\n",
       "    </tr>\n",
       "    <tr>\n",
       "      <th>3</th>\n",
       "      <td>EWZ</td>\n",
       "      <td>2014-01-24</td>\n",
       "      <td>2014-01-31</td>\n",
       "      <td>0.195339</td>\n",
       "      <td>-0.018432</td>\n",
       "      <td>0.314414</td>\n",
       "    </tr>\n",
       "    <tr>\n",
       "      <th>4</th>\n",
       "      <td>EWZ</td>\n",
       "      <td>2014-01-31</td>\n",
       "      <td>2014-02-07</td>\n",
       "      <td>0.411154</td>\n",
       "      <td>0.035056</td>\n",
       "      <td>0.302819</td>\n",
       "    </tr>\n",
       "  </tbody>\n",
       "</table>\n",
       "</div>"
      ],
      "text/plain": [
       "  underlying  start_date    end_date  realized_vol       ret  start_iv\n",
       "0        EWZ  2014-01-03  2014-01-10      0.196240 -0.017186  0.236235\n",
       "1        EWZ  2014-01-10  2014-01-17      0.121560 -0.011308  0.230431\n",
       "2        EWZ  2014-01-17  2014-01-24      0.298007 -0.054528  0.214747\n",
       "3        EWZ  2014-01-24  2014-01-31      0.195339 -0.018432  0.314414\n",
       "4        EWZ  2014-01-31  2014-02-07      0.411154  0.035056  0.302819"
      ]
     },
     "execution_count": 3,
     "metadata": {},
     "output_type": "execute_result"
    }
   ],
   "source": [
    "df_ewz = pd.read_csv('../data/ewz_2014_2018_regression.csv')\n",
    "df_ewz.head()"
   ]
  },
  {
   "cell_type": "markdown",
   "metadata": {},
   "source": [
    "#### 3) Create a new column in `df_ewz` and call it `iv_change`.  Populate this new column with the change in `start_iv` from the current period to the next period."
   ]
  },
  {
   "cell_type": "code",
   "execution_count": 4,
   "metadata": {},
   "outputs": [
    {
     "data": {
      "text/html": [
       "<div>\n",
       "<style scoped>\n",
       "    .dataframe tbody tr th:only-of-type {\n",
       "        vertical-align: middle;\n",
       "    }\n",
       "\n",
       "    .dataframe tbody tr th {\n",
       "        vertical-align: top;\n",
       "    }\n",
       "\n",
       "    .dataframe thead th {\n",
       "        text-align: right;\n",
       "    }\n",
       "</style>\n",
       "<table border=\"1\" class=\"dataframe\">\n",
       "  <thead>\n",
       "    <tr style=\"text-align: right;\">\n",
       "      <th></th>\n",
       "      <th>underlying</th>\n",
       "      <th>start_date</th>\n",
       "      <th>end_date</th>\n",
       "      <th>realized_vol</th>\n",
       "      <th>ret</th>\n",
       "      <th>start_iv</th>\n",
       "      <th>iv_change</th>\n",
       "    </tr>\n",
       "  </thead>\n",
       "  <tbody>\n",
       "    <tr>\n",
       "      <th>0</th>\n",
       "      <td>EWZ</td>\n",
       "      <td>2014-01-03</td>\n",
       "      <td>2014-01-10</td>\n",
       "      <td>0.196240</td>\n",
       "      <td>-0.017186</td>\n",
       "      <td>0.236235</td>\n",
       "      <td>-0.005803</td>\n",
       "    </tr>\n",
       "    <tr>\n",
       "      <th>1</th>\n",
       "      <td>EWZ</td>\n",
       "      <td>2014-01-10</td>\n",
       "      <td>2014-01-17</td>\n",
       "      <td>0.121560</td>\n",
       "      <td>-0.011308</td>\n",
       "      <td>0.230431</td>\n",
       "      <td>-0.015684</td>\n",
       "    </tr>\n",
       "    <tr>\n",
       "      <th>2</th>\n",
       "      <td>EWZ</td>\n",
       "      <td>2014-01-17</td>\n",
       "      <td>2014-01-24</td>\n",
       "      <td>0.298007</td>\n",
       "      <td>-0.054528</td>\n",
       "      <td>0.214747</td>\n",
       "      <td>0.099667</td>\n",
       "    </tr>\n",
       "    <tr>\n",
       "      <th>3</th>\n",
       "      <td>EWZ</td>\n",
       "      <td>2014-01-24</td>\n",
       "      <td>2014-01-31</td>\n",
       "      <td>0.195339</td>\n",
       "      <td>-0.018432</td>\n",
       "      <td>0.314414</td>\n",
       "      <td>-0.011595</td>\n",
       "    </tr>\n",
       "    <tr>\n",
       "      <th>4</th>\n",
       "      <td>EWZ</td>\n",
       "      <td>2014-01-31</td>\n",
       "      <td>2014-02-07</td>\n",
       "      <td>0.411154</td>\n",
       "      <td>0.035056</td>\n",
       "      <td>0.302819</td>\n",
       "      <td>-0.008644</td>\n",
       "    </tr>\n",
       "  </tbody>\n",
       "</table>\n",
       "</div>"
      ],
      "text/plain": [
       "  underlying  start_date    end_date  realized_vol       ret  start_iv  \\\n",
       "0        EWZ  2014-01-03  2014-01-10      0.196240 -0.017186  0.236235   \n",
       "1        EWZ  2014-01-10  2014-01-17      0.121560 -0.011308  0.230431   \n",
       "2        EWZ  2014-01-17  2014-01-24      0.298007 -0.054528  0.214747   \n",
       "3        EWZ  2014-01-24  2014-01-31      0.195339 -0.018432  0.314414   \n",
       "4        EWZ  2014-01-31  2014-02-07      0.411154  0.035056  0.302819   \n",
       "\n",
       "   iv_change  \n",
       "0  -0.005803  \n",
       "1  -0.015684  \n",
       "2   0.099667  \n",
       "3  -0.011595  \n",
       "4  -0.008644  "
      ]
     },
     "execution_count": 4,
     "metadata": {},
     "output_type": "execute_result"
    }
   ],
   "source": [
    "df_ewz['iv_change'] = (df_ewz['start_iv'] - df_ewz['start_iv'].shift(1)).shift(-1)\n",
    "df_ewz.head()"
   ]
  },
  {
   "cell_type": "markdown",
   "metadata": {},
   "source": [
    "#### 4) Create a scatter plot of `ret` vs `iv_change`.  Would you say this graph is more or less noisy that the one for SPY in Tutorial 19?"
   ]
  },
  {
   "cell_type": "code",
   "execution_count": 5,
   "metadata": {},
   "outputs": [
    {
     "data": {
      "image/png": "[encoded data removed]",
      "text/plain": [
       "<Figure size 432x288 with 1 Axes>"
      ]
     },
     "metadata": {
      "needs_background": "light"
     },
     "output_type": "display_data"
    }
   ],
   "source": [
    "df_ewz.plot.scatter('ret', 'iv_change', c='k', figsize=(6, 4));"
   ]
  },
  {
   "cell_type": "markdown",
   "metadata": {},
   "source": [
    "This graphs is more noisy that the one for SPY."
   ]
  },
  {
   "cell_type": "markdown",
   "metadata": {},
   "source": [
    "#### 5) Fit a `LinearRegression` to our data, with `ret` at the feature and `iv_change` as the label.  This will involve three steps: \n",
    "\n",
    "a. Instantiate a LinearRegression object, call it `iv_model`.\n",
    "\n",
    "b. Isolate the training data to fit the model with.\n",
    "\n",
    "c. Fit the model by using `iv_model.fit()`."
   ]
  },
  {
   "cell_type": "code",
   "execution_count": 6,
   "metadata": {},
   "outputs": [
    {
     "data": {
      "text/plain": [
       "LinearRegression(copy_X=True, fit_intercept=False, n_jobs=None,\n",
       "         normalize=False)"
      ]
     },
     "execution_count": 6,
     "metadata": {},
     "output_type": "execute_result"
    }
   ],
   "source": [
    "# a) instantiating the model\n",
    "from sklearn.linear_model import LinearRegression\n",
    "iv_model = LinearRegression(fit_intercept=False)\n",
    "\n",
    "# b) isolating the training data\n",
    "df_ret = df_ewz[['ret']][0:-1] # features\n",
    "df_iv = df_ewz[['iv_change']][0:-1] # labels\n",
    "\n",
    "# c) fitting the model\n",
    "iv_model.fit(df_ret, df_iv)"
   ]
  },
  {
   "cell_type": "markdown",
   "metadata": {},
   "source": [
    "#### 6) Calculate the $R^2$ of this model on the training data.  How does this compare to SPY?  Is this consistent with your answer to #4."
   ]
  },
  {
   "cell_type": "code",
   "execution_count": 8,
   "metadata": {},
   "outputs": [
    {
     "data": {
      "text/plain": [
       "0.0828460289599171"
      ]
     },
     "execution_count": 8,
     "metadata": {},
     "output_type": "execute_result"
    }
   ],
   "source": [
    "iv_model.score(df_ret, df_iv)"
   ]
  },
  {
   "cell_type": "markdown",
   "metadata": {},
   "source": [
    "Yes, this graph is much noisier than the SPY graph, so we should expect a lower $R^2$."
   ]
  }
 ],
 "metadata": {
  "kernelspec": {
   "display_name": "Python 3",
   "language": "python",
   "name": "python3"
  },
  "language_info": {
   "codemirror_mode": {
    "name": "ipython",
    "version": 3
   },
   "file_extension": ".py",
   "mimetype": "text/x-python",
   "name": "python",
   "nbconvert_exporter": "python",
   "pygments_lexer": "ipython3",
   "version": "3.6.8"
  }
 },
 "nbformat": 4,
 "nbformat_minor": 2
}
