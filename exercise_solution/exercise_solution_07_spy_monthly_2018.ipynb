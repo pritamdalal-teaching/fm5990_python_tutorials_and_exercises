{
 "cells": [
  {
   "cell_type": "markdown",
   "metadata": {},
   "source": [
    "# Exercise 7 - an analysis of SPY monthly calls in 2018"
   ]
  },
  {
   "cell_type": "code",
   "execution_count": 1,
   "metadata": {},
   "outputs": [],
   "source": [
    "import numpy as np\n",
    "import pandas as pd"
   ]
  },
  {
   "cell_type": "code",
   "execution_count": 2,
   "metadata": {},
   "outputs": [],
   "source": [
    "df_trade = pd.read_csv('../data/spy_2018_call_trade.csv')\n",
    "df_pnl = pd.read_csv('../data/spy_2018_call_pnl.csv')"
   ]
  },
  {
   "cell_type": "code",
   "execution_count": 3,
   "metadata": {},
   "outputs": [
    {
     "data": {
      "text/html": [
       "<div>\n",
       "<style scoped>\n",
       "    .dataframe tbody tr th:only-of-type {\n",
       "        vertical-align: middle;\n",
       "    }\n",
       "\n",
       "    .dataframe tbody tr th {\n",
       "        vertical-align: top;\n",
       "    }\n",
       "\n",
       "    .dataframe thead th {\n",
       "        text-align: right;\n",
       "    }\n",
       "</style>\n",
       "<table border=\"1\" class=\"dataframe\">\n",
       "  <thead>\n",
       "    <tr style=\"text-align: right;\">\n",
       "      <th></th>\n",
       "      <th>execution_date</th>\n",
       "      <th>direction</th>\n",
       "      <th>quantity</th>\n",
       "      <th>underlying</th>\n",
       "      <th>type</th>\n",
       "      <th>strike</th>\n",
       "      <th>expiration</th>\n",
       "      <th>d2x</th>\n",
       "      <th>trade_price</th>\n",
       "    </tr>\n",
       "  </thead>\n",
       "  <tbody>\n",
       "    <tr>\n",
       "      <th>0</th>\n",
       "      <td>2017-12-15</td>\n",
       "      <td>sell</td>\n",
       "      <td>1</td>\n",
       "      <td>SPY</td>\n",
       "      <td>call</td>\n",
       "      <td>270</td>\n",
       "      <td>2018-01-19</td>\n",
       "      <td>22</td>\n",
       "      <td>1.14</td>\n",
       "    </tr>\n",
       "    <tr>\n",
       "      <th>1</th>\n",
       "      <td>2018-01-19</td>\n",
       "      <td>sell</td>\n",
       "      <td>1</td>\n",
       "      <td>SPY</td>\n",
       "      <td>call</td>\n",
       "      <td>284</td>\n",
       "      <td>2018-02-16</td>\n",
       "      <td>20</td>\n",
       "      <td>1.27</td>\n",
       "    </tr>\n",
       "    <tr>\n",
       "      <th>2</th>\n",
       "      <td>2018-02-16</td>\n",
       "      <td>sell</td>\n",
       "      <td>1</td>\n",
       "      <td>SPY</td>\n",
       "      <td>call</td>\n",
       "      <td>278</td>\n",
       "      <td>2018-03-16</td>\n",
       "      <td>19</td>\n",
       "      <td>1.95</td>\n",
       "    </tr>\n",
       "    <tr>\n",
       "      <th>3</th>\n",
       "      <td>2018-03-16</td>\n",
       "      <td>sell</td>\n",
       "      <td>1</td>\n",
       "      <td>SPY</td>\n",
       "      <td>call</td>\n",
       "      <td>280</td>\n",
       "      <td>2018-04-20</td>\n",
       "      <td>24</td>\n",
       "      <td>1.57</td>\n",
       "    </tr>\n",
       "    <tr>\n",
       "      <th>4</th>\n",
       "      <td>2018-04-20</td>\n",
       "      <td>sell</td>\n",
       "      <td>1</td>\n",
       "      <td>SPY</td>\n",
       "      <td>call</td>\n",
       "      <td>272</td>\n",
       "      <td>2018-05-18</td>\n",
       "      <td>20</td>\n",
       "      <td>1.71</td>\n",
       "    </tr>\n",
       "  </tbody>\n",
       "</table>\n",
       "</div>"
      ],
      "text/plain": [
       "  execution_date direction  quantity underlying  type  strike  expiration  \\\n",
       "0     2017-12-15      sell         1        SPY  call     270  2018-01-19   \n",
       "1     2018-01-19      sell         1        SPY  call     284  2018-02-16   \n",
       "2     2018-02-16      sell         1        SPY  call     278  2018-03-16   \n",
       "3     2018-03-16      sell         1        SPY  call     280  2018-04-20   \n",
       "4     2018-04-20      sell         1        SPY  call     272  2018-05-18   \n",
       "\n",
       "   d2x  trade_price  \n",
       "0   22         1.14  \n",
       "1   20         1.27  \n",
       "2   19         1.95  \n",
       "3   24         1.57  \n",
       "4   20         1.71  "
      ]
     },
     "execution_count": 3,
     "metadata": {},
     "output_type": "execute_result"
    }
   ],
   "source": [
    "df_trade.head()"
   ]
  },
  {
   "cell_type": "markdown",
   "metadata": {},
   "source": [
    "#### Chek that there are a total of 12 options represented in df_trade.  Recall that an option is uniquely defined by its `underlying`, `type`, `strike`, and `expiration`."
   ]
  },
  {
   "cell_type": "code",
   "execution_count": 4,
   "metadata": {},
   "outputs": [
    {
     "data": {
      "text/plain": [
       "(12, 9)"
      ]
     },
     "execution_count": 4,
     "metadata": {},
     "output_type": "execute_result"
    }
   ],
   "source": [
    "df_trade.shape"
   ]
  },
  {
   "cell_type": "code",
   "execution_count": 47,
   "metadata": {},
   "outputs": [
    {
     "data": {
      "text/plain": [
       "(12, 5)"
      ]
     },
     "execution_count": 47,
     "metadata": {},
     "output_type": "execute_result"
    }
   ],
   "source": [
    "# checking the number of unique options in df_trade\n",
    "df_trade.groupby(['underlying', 'type', 'strike', 'expiration']).size().reset_index().shape"
   ]
  },
  {
   "cell_type": "code",
   "execution_count": 6,
   "metadata": {},
   "outputs": [
    {
     "data": {
      "text/html": [
       "<div>\n",
       "<style scoped>\n",
       "    .dataframe tbody tr th:only-of-type {\n",
       "        vertical-align: middle;\n",
       "    }\n",
       "\n",
       "    .dataframe tbody tr th {\n",
       "        vertical-align: top;\n",
       "    }\n",
       "\n",
       "    .dataframe thead th {\n",
       "        text-align: right;\n",
       "    }\n",
       "</style>\n",
       "<table border=\"1\" class=\"dataframe\">\n",
       "  <thead>\n",
       "    <tr style=\"text-align: right;\">\n",
       "      <th></th>\n",
       "      <th>underlying</th>\n",
       "      <th>upx</th>\n",
       "      <th>type</th>\n",
       "      <th>expiration</th>\n",
       "      <th>data_date</th>\n",
       "      <th>strike</th>\n",
       "      <th>bid</th>\n",
       "      <th>ask</th>\n",
       "      <th>implied_vol</th>\n",
       "      <th>delta</th>\n",
       "      <th>dly_opt_pnl</th>\n",
       "      <th>dly_dh_pnl</th>\n",
       "    </tr>\n",
       "  </thead>\n",
       "  <tbody>\n",
       "    <tr>\n",
       "      <th>0</th>\n",
       "      <td>SPY</td>\n",
       "      <td>266.529999</td>\n",
       "      <td>call</td>\n",
       "      <td>2018-01-19</td>\n",
       "      <td>2017-12-15</td>\n",
       "      <td>270</td>\n",
       "      <td>1.14</td>\n",
       "      <td>1.16</td>\n",
       "      <td>0.068257</td>\n",
       "      <td>0.328344</td>\n",
       "      <td>-0.02</td>\n",
       "      <td>0.000000</td>\n",
       "    </tr>\n",
       "    <tr>\n",
       "      <th>1</th>\n",
       "      <td>SPY</td>\n",
       "      <td>268.230011</td>\n",
       "      <td>call</td>\n",
       "      <td>2018-01-19</td>\n",
       "      <td>2017-12-18</td>\n",
       "      <td>270</td>\n",
       "      <td>1.68</td>\n",
       "      <td>1.69</td>\n",
       "      <td>0.071450</td>\n",
       "      <td>0.421353</td>\n",
       "      <td>-0.53</td>\n",
       "      <td>0.558189</td>\n",
       "    </tr>\n",
       "    <tr>\n",
       "      <th>2</th>\n",
       "      <td>SPY</td>\n",
       "      <td>267.250000</td>\n",
       "      <td>call</td>\n",
       "      <td>2018-01-19</td>\n",
       "      <td>2017-12-19</td>\n",
       "      <td>270</td>\n",
       "      <td>1.39</td>\n",
       "      <td>1.41</td>\n",
       "      <td>0.074841</td>\n",
       "      <td>0.365808</td>\n",
       "      <td>0.28</td>\n",
       "      <td>-0.412931</td>\n",
       "    </tr>\n",
       "    <tr>\n",
       "      <th>3</th>\n",
       "      <td>SPY</td>\n",
       "      <td>267.100006</td>\n",
       "      <td>call</td>\n",
       "      <td>2018-01-19</td>\n",
       "      <td>2017-12-20</td>\n",
       "      <td>270</td>\n",
       "      <td>1.10</td>\n",
       "      <td>1.11</td>\n",
       "      <td>0.070911</td>\n",
       "      <td>0.327058</td>\n",
       "      <td>0.30</td>\n",
       "      <td>-0.054869</td>\n",
       "    </tr>\n",
       "    <tr>\n",
       "      <th>4</th>\n",
       "      <td>SPY</td>\n",
       "      <td>267.540009</td>\n",
       "      <td>call</td>\n",
       "      <td>2018-01-19</td>\n",
       "      <td>2017-12-21</td>\n",
       "      <td>270</td>\n",
       "      <td>1.31</td>\n",
       "      <td>1.32</td>\n",
       "      <td>0.072183</td>\n",
       "      <td>0.372113</td>\n",
       "      <td>-0.21</td>\n",
       "      <td>0.143906</td>\n",
       "    </tr>\n",
       "  </tbody>\n",
       "</table>\n",
       "</div>"
      ],
      "text/plain": [
       "  underlying         upx  type  expiration   data_date  strike   bid   ask  \\\n",
       "0        SPY  266.529999  call  2018-01-19  2017-12-15     270  1.14  1.16   \n",
       "1        SPY  268.230011  call  2018-01-19  2017-12-18     270  1.68  1.69   \n",
       "2        SPY  267.250000  call  2018-01-19  2017-12-19     270  1.39  1.41   \n",
       "3        SPY  267.100006  call  2018-01-19  2017-12-20     270  1.10  1.11   \n",
       "4        SPY  267.540009  call  2018-01-19  2017-12-21     270  1.31  1.32   \n",
       "\n",
       "   implied_vol     delta  dly_opt_pnl  dly_dh_pnl  \n",
       "0     0.068257  0.328344        -0.02    0.000000  \n",
       "1     0.071450  0.421353        -0.53    0.558189  \n",
       "2     0.074841  0.365808         0.28   -0.412931  \n",
       "3     0.070911  0.327058         0.30   -0.054869  \n",
       "4     0.072183  0.372113        -0.21    0.143906  "
      ]
     },
     "execution_count": 6,
     "metadata": {},
     "output_type": "execute_result"
    }
   ],
   "source": [
    "df_pnl.head()"
   ]
  },
  {
   "cell_type": "code",
   "execution_count": 48,
   "metadata": {},
   "outputs": [
    {
     "data": {
      "text/plain": [
       "(12, 5)"
      ]
     },
     "execution_count": 48,
     "metadata": {},
     "output_type": "execute_result"
    }
   ],
   "source": [
    "df_pnl.groupby(['underlying', 'type', 'strike', 'expiration']).size().reset_index().shape"
   ]
  },
  {
   "cell_type": "code",
   "execution_count": 8,
   "metadata": {},
   "outputs": [],
   "source": [
    "# separating out execution dates\n",
    "df_execution = df_trade[['expiration', 'execution_date']]\n",
    "\n",
    "# joining df_pnl and df_execution to add execution date to df_pnl\n",
    "df_pnl = \\\n",
    "    pd.merge(df_pnl, df_execution, on=['expiration'])"
   ]
  },
  {
   "cell_type": "code",
   "execution_count": 12,
   "metadata": {},
   "outputs": [
    {
     "data": {
      "text/plain": [
       "count    12.000000\n",
       "mean      0.307980\n",
       "std       0.014992\n",
       "min       0.283518\n",
       "25%       0.296913\n",
       "50%       0.306119\n",
       "75%       0.318692\n",
       "max       0.330158\n",
       "Name: delta, dtype: float64"
      ]
     },
     "execution_count": 12,
     "metadata": {},
     "output_type": "execute_result"
    }
   ],
   "source": [
    "df_pnl[df_pnl.execution_date == df_pnl.data_date]['delta'].describe()"
   ]
  },
  {
   "cell_type": "code",
   "execution_count": 16,
   "metadata": {},
   "outputs": [
    {
     "data": {
      "text/html": [
       "<div>\n",
       "<style scoped>\n",
       "    .dataframe tbody tr th:only-of-type {\n",
       "        vertical-align: middle;\n",
       "    }\n",
       "\n",
       "    .dataframe tbody tr th {\n",
       "        vertical-align: top;\n",
       "    }\n",
       "\n",
       "    .dataframe thead th {\n",
       "        text-align: right;\n",
       "    }\n",
       "</style>\n",
       "<table border=\"1\" class=\"dataframe\">\n",
       "  <thead>\n",
       "    <tr style=\"text-align: right;\">\n",
       "      <th></th>\n",
       "      <th>expiration</th>\n",
       "      <th>bid</th>\n",
       "    </tr>\n",
       "  </thead>\n",
       "  <tbody>\n",
       "    <tr>\n",
       "      <th>0</th>\n",
       "      <td>2018-01-19</td>\n",
       "      <td>1.14</td>\n",
       "    </tr>\n",
       "    <tr>\n",
       "      <th>23</th>\n",
       "      <td>2018-02-16</td>\n",
       "      <td>1.27</td>\n",
       "    </tr>\n",
       "    <tr>\n",
       "      <th>44</th>\n",
       "      <td>2018-03-16</td>\n",
       "      <td>1.95</td>\n",
       "    </tr>\n",
       "    <tr>\n",
       "      <th>64</th>\n",
       "      <td>2018-04-20</td>\n",
       "      <td>1.57</td>\n",
       "    </tr>\n",
       "    <tr>\n",
       "      <th>89</th>\n",
       "      <td>2018-05-18</td>\n",
       "      <td>1.71</td>\n",
       "    </tr>\n",
       "  </tbody>\n",
       "</table>\n",
       "</div>"
      ],
      "text/plain": [
       "    expiration   bid\n",
       "0   2018-01-19  1.14\n",
       "23  2018-02-16  1.27\n",
       "44  2018-03-16  1.95\n",
       "64  2018-04-20  1.57\n",
       "89  2018-05-18  1.71"
      ]
     },
     "execution_count": 16,
     "metadata": {},
     "output_type": "execute_result"
    }
   ],
   "source": [
    "df_premium = \\\n",
    "    df_pnl[df_pnl.execution_date == df_pnl.data_date][['expiration', 'bid']]\n",
    "df_premium.head()"
   ]
  },
  {
   "cell_type": "code",
   "execution_count": 25,
   "metadata": {},
   "outputs": [
    {
     "data": {
      "text/html": [
       "<div>\n",
       "<style scoped>\n",
       "    .dataframe tbody tr th:only-of-type {\n",
       "        vertical-align: middle;\n",
       "    }\n",
       "\n",
       "    .dataframe tbody tr th {\n",
       "        vertical-align: top;\n",
       "    }\n",
       "\n",
       "    .dataframe thead th {\n",
       "        text-align: right;\n",
       "    }\n",
       "</style>\n",
       "<table border=\"1\" class=\"dataframe\">\n",
       "  <thead>\n",
       "    <tr style=\"text-align: right;\">\n",
       "      <th></th>\n",
       "      <th>expiration</th>\n",
       "      <th>exp_pnl</th>\n",
       "    </tr>\n",
       "  </thead>\n",
       "  <tbody>\n",
       "    <tr>\n",
       "      <th>0</th>\n",
       "      <td>2018-01-19</td>\n",
       "      <td>-9.250015</td>\n",
       "    </tr>\n",
       "    <tr>\n",
       "      <th>1</th>\n",
       "      <td>2018-02-16</td>\n",
       "      <td>1.270000</td>\n",
       "    </tr>\n",
       "    <tr>\n",
       "      <th>2</th>\n",
       "      <td>2018-03-16</td>\n",
       "      <td>1.950000</td>\n",
       "    </tr>\n",
       "    <tr>\n",
       "      <th>3</th>\n",
       "      <td>2018-04-20</td>\n",
       "      <td>1.570000</td>\n",
       "    </tr>\n",
       "    <tr>\n",
       "      <th>4</th>\n",
       "      <td>2018-05-18</td>\n",
       "      <td>1.710000</td>\n",
       "    </tr>\n",
       "  </tbody>\n",
       "</table>\n",
       "</div>"
      ],
      "text/plain": [
       "   expiration   exp_pnl\n",
       "0  2018-01-19 -9.250015\n",
       "1  2018-02-16  1.270000\n",
       "2  2018-03-16  1.950000\n",
       "3  2018-04-20  1.570000\n",
       "4  2018-05-18  1.710000"
      ]
     },
     "execution_count": 25,
     "metadata": {},
     "output_type": "execute_result"
    }
   ],
   "source": [
    "df_pnl_expiration = \\\n",
    "    df_pnl.groupby(['expiration'])['dly_opt_pnl'].agg([np.sum]).reset_index()\n",
    "\n",
    "df_pnl_expiration.rename(columns={'sum':'exp_pnl'}, inplace=True)\n",
    "\n",
    "df_pnl_expiration.head()"
   ]
  },
  {
   "cell_type": "code",
   "execution_count": 29,
   "metadata": {},
   "outputs": [
    {
     "data": {
      "text/html": [
       "<div>\n",
       "<style scoped>\n",
       "    .dataframe tbody tr th:only-of-type {\n",
       "        vertical-align: middle;\n",
       "    }\n",
       "\n",
       "    .dataframe tbody tr th {\n",
       "        vertical-align: top;\n",
       "    }\n",
       "\n",
       "    .dataframe thead th {\n",
       "        text-align: right;\n",
       "    }\n",
       "</style>\n",
       "<table border=\"1\" class=\"dataframe\">\n",
       "  <thead>\n",
       "    <tr style=\"text-align: right;\">\n",
       "      <th></th>\n",
       "      <th>expiration</th>\n",
       "      <th>bid</th>\n",
       "      <th>exp_pnl</th>\n",
       "      <th>pnl_ratio</th>\n",
       "    </tr>\n",
       "  </thead>\n",
       "  <tbody>\n",
       "    <tr>\n",
       "      <th>0</th>\n",
       "      <td>2018-01-19</td>\n",
       "      <td>1.14</td>\n",
       "      <td>-9.250015</td>\n",
       "      <td>-8.114048</td>\n",
       "    </tr>\n",
       "    <tr>\n",
       "      <th>1</th>\n",
       "      <td>2018-02-16</td>\n",
       "      <td>1.27</td>\n",
       "      <td>1.270000</td>\n",
       "      <td>1.000000</td>\n",
       "    </tr>\n",
       "    <tr>\n",
       "      <th>2</th>\n",
       "      <td>2018-03-16</td>\n",
       "      <td>1.95</td>\n",
       "      <td>1.950000</td>\n",
       "      <td>1.000000</td>\n",
       "    </tr>\n",
       "    <tr>\n",
       "      <th>3</th>\n",
       "      <td>2018-04-20</td>\n",
       "      <td>1.57</td>\n",
       "      <td>1.570000</td>\n",
       "      <td>1.000000</td>\n",
       "    </tr>\n",
       "    <tr>\n",
       "      <th>4</th>\n",
       "      <td>2018-05-18</td>\n",
       "      <td>1.71</td>\n",
       "      <td>1.710000</td>\n",
       "      <td>1.000000</td>\n",
       "    </tr>\n",
       "    <tr>\n",
       "      <th>5</th>\n",
       "      <td>2018-06-15</td>\n",
       "      <td>1.46</td>\n",
       "      <td>-0.569999</td>\n",
       "      <td>-0.390410</td>\n",
       "    </tr>\n",
       "    <tr>\n",
       "      <th>6</th>\n",
       "      <td>2018-07-20</td>\n",
       "      <td>1.48</td>\n",
       "      <td>1.480000</td>\n",
       "      <td>1.000000</td>\n",
       "    </tr>\n",
       "    <tr>\n",
       "      <th>7</th>\n",
       "      <td>2018-08-17</td>\n",
       "      <td>1.35</td>\n",
       "      <td>-0.669989</td>\n",
       "      <td>-0.496288</td>\n",
       "    </tr>\n",
       "    <tr>\n",
       "      <th>8</th>\n",
       "      <td>2018-09-21</td>\n",
       "      <td>1.39</td>\n",
       "      <td>-1.650009</td>\n",
       "      <td>-1.187057</td>\n",
       "    </tr>\n",
       "    <tr>\n",
       "      <th>9</th>\n",
       "      <td>2018-10-19</td>\n",
       "      <td>1.15</td>\n",
       "      <td>1.150000</td>\n",
       "      <td>1.000000</td>\n",
       "    </tr>\n",
       "    <tr>\n",
       "      <th>10</th>\n",
       "      <td>2018-11-16</td>\n",
       "      <td>1.87</td>\n",
       "      <td>1.870000</td>\n",
       "      <td>1.000000</td>\n",
       "    </tr>\n",
       "    <tr>\n",
       "      <th>11</th>\n",
       "      <td>2018-12-21</td>\n",
       "      <td>2.25</td>\n",
       "      <td>2.250000</td>\n",
       "      <td>1.000000</td>\n",
       "    </tr>\n",
       "  </tbody>\n",
       "</table>\n",
       "</div>"
      ],
      "text/plain": [
       "    expiration   bid   exp_pnl  pnl_ratio\n",
       "0   2018-01-19  1.14 -9.250015  -8.114048\n",
       "1   2018-02-16  1.27  1.270000   1.000000\n",
       "2   2018-03-16  1.95  1.950000   1.000000\n",
       "3   2018-04-20  1.57  1.570000   1.000000\n",
       "4   2018-05-18  1.71  1.710000   1.000000\n",
       "5   2018-06-15  1.46 -0.569999  -0.390410\n",
       "6   2018-07-20  1.48  1.480000   1.000000\n",
       "7   2018-08-17  1.35 -0.669989  -0.496288\n",
       "8   2018-09-21  1.39 -1.650009  -1.187057\n",
       "9   2018-10-19  1.15  1.150000   1.000000\n",
       "10  2018-11-16  1.87  1.870000   1.000000\n",
       "11  2018-12-21  2.25  2.250000   1.000000"
      ]
     },
     "execution_count": 29,
     "metadata": {},
     "output_type": "execute_result"
    }
   ],
   "source": [
    "df_prem_vs_pnl = \\\n",
    "    pd.merge(df_premium, df_pnl_expiration, on='expiration')\n",
    "\n",
    "df_prem_vs_pnl['pnl_ratio'] = df_prem_vs_pnl.exp_pnl / df_prem_vs_pnl.bid\n",
    "\n",
    "df_prem_vs_pnl"
   ]
  },
  {
   "cell_type": "code",
   "execution_count": 31,
   "metadata": {},
   "outputs": [
    {
     "data": {
      "text/plain": [
       "array([[ 1.        , -0.92697748],\n",
       "       [-0.92697748,  1.        ]])"
      ]
     },
     "execution_count": 31,
     "metadata": {},
     "output_type": "execute_result"
    }
   ],
   "source": [
    "# delta-hedge pnl is negatively correlated with the (probably should do this after it's into daily values)\n",
    "np.corrcoef(df_pnl.dly_opt_pnl, df_pnl.dly_dh_pnl)"
   ]
  },
  {
   "cell_type": "code",
   "execution_count": 34,
   "metadata": {},
   "outputs": [],
   "source": [
    "# creating the total PNL column\n",
    "df_pnl['dly_tot_pnl'] = df_pnl.dly_opt_pnl + df_pnl.dly_dh_pnl"
   ]
  },
  {
   "cell_type": "code",
   "execution_count": 39,
   "metadata": {},
   "outputs": [
    {
     "data": {
      "text/html": [
       "<div>\n",
       "<style scoped>\n",
       "    .dataframe tbody tr th:only-of-type {\n",
       "        vertical-align: middle;\n",
       "    }\n",
       "\n",
       "    .dataframe tbody tr th {\n",
       "        vertical-align: top;\n",
       "    }\n",
       "\n",
       "    .dataframe thead th {\n",
       "        text-align: right;\n",
       "    }\n",
       "</style>\n",
       "<table border=\"1\" class=\"dataframe\">\n",
       "  <thead>\n",
       "    <tr style=\"text-align: right;\">\n",
       "      <th></th>\n",
       "      <th>data_date</th>\n",
       "      <th>dly_opt_pnl</th>\n",
       "      <th>dly_tot_pnl</th>\n",
       "    </tr>\n",
       "  </thead>\n",
       "  <tbody>\n",
       "    <tr>\n",
       "      <th>0</th>\n",
       "      <td>2017-12-15</td>\n",
       "      <td>-0.02</td>\n",
       "      <td>-0.020000</td>\n",
       "    </tr>\n",
       "    <tr>\n",
       "      <th>1</th>\n",
       "      <td>2017-12-18</td>\n",
       "      <td>-0.53</td>\n",
       "      <td>0.028189</td>\n",
       "    </tr>\n",
       "    <tr>\n",
       "      <th>2</th>\n",
       "      <td>2017-12-19</td>\n",
       "      <td>0.28</td>\n",
       "      <td>-0.132931</td>\n",
       "    </tr>\n",
       "    <tr>\n",
       "      <th>3</th>\n",
       "      <td>2017-12-20</td>\n",
       "      <td>0.30</td>\n",
       "      <td>0.245131</td>\n",
       "    </tr>\n",
       "    <tr>\n",
       "      <th>4</th>\n",
       "      <td>2017-12-21</td>\n",
       "      <td>-0.21</td>\n",
       "      <td>-0.066094</td>\n",
       "    </tr>\n",
       "  </tbody>\n",
       "</table>\n",
       "</div>"
      ],
      "text/plain": [
       "    data_date  dly_opt_pnl  dly_tot_pnl\n",
       "0  2017-12-15        -0.02    -0.020000\n",
       "1  2017-12-18        -0.53     0.028189\n",
       "2  2017-12-19         0.28    -0.132931\n",
       "3  2017-12-20         0.30     0.245131\n",
       "4  2017-12-21        -0.21    -0.066094"
      ]
     },
     "execution_count": 39,
     "metadata": {},
     "output_type": "execute_result"
    }
   ],
   "source": [
    "# aggregating to get daily total\n",
    "df_comparison = \\\n",
    "    df_pnl.groupby(['data_date']).agg({'dly_opt_pnl':np.sum, 'dly_tot_pnl':np.sum}).reset_index()\n",
    "\n",
    "df_comparison.head()"
   ]
  },
  {
   "cell_type": "code",
   "execution_count": 45,
   "metadata": {},
   "outputs": [
    {
     "name": "stdout",
     "output_type": "stream",
     "text": [
      "naked options:  0.581733284292837\n",
      "delta hedged:  0.2373096110672859\n"
     ]
    }
   ],
   "source": [
    "# comparing standard deviation of PNLs\n",
    "print('naked options: ', np.std(df_comparison.dly_opt_pnl))\n",
    "print('delta hedged: ', np.std(df_comparison.dly_tot_pnl))"
   ]
  }
 ],
 "metadata": {
  "kernelspec": {
   "display_name": "Python 3",
   "language": "python",
   "name": "python3"
  },
  "language_info": {
   "codemirror_mode": {
    "name": "ipython",
    "version": 3
   },
   "file_extension": ".py",
   "mimetype": "text/x-python",
   "name": "python",
   "nbconvert_exporter": "python",
   "pygments_lexer": "ipython3",
   "version": "3.6.8"
  }
 },
 "nbformat": 4,
 "nbformat_minor": 2
}
